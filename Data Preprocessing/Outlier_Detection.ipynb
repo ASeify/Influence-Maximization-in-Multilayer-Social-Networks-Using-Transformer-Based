{
 "cells": [
  {
   "cell_type": "code",
   "execution_count": null,
   "metadata": {},
   "outputs": [],
   "source": [
    "import sys\n",
    "import os\n",
    "import pandas as pd\n",
    "import matplotlib.pyplot as plt\n",
    "from matplotlib.pyplot import figure\n",
    "import numpy as np\n",
    "from sklearn.cluster import DBSCAN\n",
    "from sklearn.neighbors import NearestNeighbors\n",
    "import copy\n",
    "import math\n",
    "from scipy import stats\n",
    "\n",
    "\n",
    "CLASSES_PATH = os.path.dirname(os.path.abspath('D:/Code/Classes'))\n",
    "if not (CLASSES_PATH in sys.path):\n",
    "    sys.path.append(CLASSES_PATH)\n",
    "from Classes.Files_Handler_Class import Files_Handler\n",
    "from Classes.CSV_Files_Class import CSV_Files\n",
    "from Classes.Bcolors_Class import Bcolors as bcolors\n"
   ]
  },
  {
   "cell_type": "code",
   "execution_count": null,
   "metadata": {},
   "outputs": [],
   "source": [
    "colors_list = ['b', 'g', 'r', 'c', 'm', 'y', 'peru', 'tan', 'gold', 'lime', 'teal', 'aqua', 'navy', 'plum', 'pink']"
   ]
  },
  {
   "cell_type": "code",
   "execution_count": null,
   "metadata": {},
   "outputs": [],
   "source": [
    "layer_centrality = ['layer_density','layer_degree_histogram','layer_edge_weight',\n",
    "                    'layer_sombor_index', 'layer_nodes_weight','layer_k_shell_weight']\n",
    "node_centrality = ['degree', 'clustering', 'nip', 'sombor_index', 'ego_density','ego_degree',\n",
    "                     'ego_k_shell', 'ego_degree_mean','kss', 'vote_power']\n",
    "drop_centrality = ['layer_id', 'node_id', 'k_shell', 'k_shell_itr']"
   ]
  },
  {
   "cell_type": "code",
   "execution_count": null,
   "metadata": {},
   "outputs": [],
   "source": [
    "def gaussian_kde_func(dataset:pd.DataFrame, clean_data_path:str):\n",
    "    for column in list(dataset):\n",
    "        kde = stats.gaussian_kde(dataset[column])\n",
    "        x = np.linspace(dataset[column].min(), dataset[column].max(), 100)\n",
    "        y = kde(x)\n",
    "        plt.figure(figsize=(10,6))\n",
    "        plt.plot(x, y)\n",
    "        plt.fill_between(x, y, alpha=0.5)\n",
    "        plt.title(f'gaussian_kde {column}')\n",
    "        plt.xlabel(column)\n",
    "        plt.ylabel('Frequency')\n",
    "        plt.xlim(math.floor(dataset[column].min()), math.ceil(dataset[column].max()))\n",
    "        plt.savefig(clean_data_path + f'gaussian_kde {column} before outlier detection.png')\n",
    "        plt.show()\n",
    "\n",
    "    pass\n",
    "\n",
    "def NearestNeighbors_func(dataset:np.array, n_neighbors:int, clean_data_path:str):\n",
    "    neighbors = NearestNeighbors(n_neighbors=n_neighbors)\n",
    "    neighbors_fit = neighbors.fit(dataset)\n",
    "    distances, indices = neighbors_fit.kneighbors(dataset)\n",
    "    distances = np.sort(distances, axis=0)\n",
    "    distances_ = copy.deepcopy(distances)\n",
    "    distances_ = np.mean(distances[:,1:],axis=1)\n",
    "    figure(figsize=(8, 6), dpi=256)\n",
    "    plt.grid(visible=True)\n",
    "    plt.plot(distances_)\n",
    "    plt.savefig(clean_data_path + f'NearestNeighbors n_neighbors={n_neighbors}.png')\n",
    "    dist_mean = distances_.mean()\n",
    "    start_i = 0\n",
    "    for i, item in enumerate(distances_):\n",
    "        if item > (dist_mean * 50):\n",
    "            start_i = int(i * (i / len(distances_))/1.5)\n",
    "            distances_ = distances_[start_i:i]\n",
    "            break\n",
    "    figure(figsize=(8, 6), dpi=256)\n",
    "    plt.grid(visible=True)\n",
    "    plt.plot(distances_)\n",
    "    plt.savefig(clean_data_path + f'NearestNeighbors zoomed n_neighbors={n_neighbors}.png')\n",
    "\n",
    "    pass\n",
    "\n",
    "def DBSCAN_func(dataset:np.array, esp:float=50, min_samples:int=500, inp_x:int=85000):\n",
    "    labels = []\n",
    "    core_samples_mask = []\n",
    "    dataset_parts = []\n",
    "    x, i, c = inp_x, 0, 0\n",
    "    j = math.ceil(len(dataset)/x)\n",
    "    print(f\"Dataset parts count: {j}\")\n",
    "    while i < j:\n",
    "        if i == (j - 1):\n",
    "            k = len(dataset)\n",
    "        else:\n",
    "            k = c + x\n",
    "        dataset_parts.append(dataset[c:k])\n",
    "        c += x\n",
    "        i += 1\n",
    "\n",
    "    for i, item in enumerate(dataset_parts):\n",
    "        print(f\"DBSCAN Started on part {i+1}th {item.shape}: \")\n",
    "        db = DBSCAN(eps=esp, min_samples=min_samples).fit(item)\n",
    "        temp_core_samples_mask = np.zeros_like(db.labels_, dtype=bool)\n",
    "        temp_core_samples_mask[db.core_sample_indices_] = True\n",
    "        temp_labels = db.labels_\n",
    "        core_samples_mask.extend(temp_core_samples_mask)\n",
    "        print(np.histogram(temp_labels))\n",
    "        \n",
    "        # Number of clusters in labels, ignoring noise if present.\n",
    "        n_clusters_ = len(set(temp_labels)) - (1 if -1 in temp_labels else 0)\n",
    "        labels.extend(db.labels_)\n",
    "        print('number of clusters: %d' % n_clusters_)\n",
    "        print(f\"DBSCAN Finished part {i+1}th \\n\")\n",
    "        \n",
    "    core_samples_mask = np.asarray(core_samples_mask, dtype=bool)\n",
    "    labels = np.asarray(labels, dtype=int)\n",
    "    # Number of clusters in labels, ignoring noise if present.\n",
    "    n_clusters = len(set(labels)) - (1 if -1 in temp_labels else 0)\n",
    "    \n",
    "    return labels, core_samples_mask, n_clusters\n",
    "\n",
    "def plot_data_classes(dataset:np.ndarray, labels:np.array, core_samples_mask:np.array,\n",
    "                       n_clusters:np.array, colors_list:list, clean_data_path:str, n_neighbors:int, min_samples:int):\n",
    "    # Plot result\n",
    "    # Black removed and is used for noise instead.\n",
    "    unique_labels = list(set(labels))\n",
    "    color_cunt = len(unique_labels)-1\n",
    "    if color_cunt >= len(colors_list):\n",
    "        color_cunt = len(colors_list) - 1\n",
    "    colors = colors_list[:color_cunt]\n",
    "\n",
    "    figure(figsize=(8, 6), dpi=256)\n",
    "    for k, col in zip(unique_labels, colors):\n",
    "        markersize = 3\n",
    "        class_member_mask = (labels == k)\n",
    "        if k == -1:\n",
    "            # Black used for noise.\n",
    "            col = 'k'\n",
    "\n",
    "        xy = dataset[class_member_mask & core_samples_mask]\n",
    "        plt.plot(xy[:, 0], xy[:, 8], 'o', markerfacecolor=col,\n",
    "                markeredgecolor='w',\n",
    "                markersize=markersize)\n",
    "\n",
    "        xy = dataset[class_member_mask & ~core_samples_mask]\n",
    "        plt.plot(xy[:, 0], xy[:, 8], '.', markerfacecolor=col,\n",
    "                markeredgecolor='k',\n",
    "                markersize=markersize)\n",
    "\n",
    "    plt.title('number of clusters: %d' % n_clusters)\n",
    "    plt.savefig(clean_data_path + f'DBSCAN esp={n_neighbors} min_samples={min_samples}.png')\n",
    "    plt.show()\n",
    "\n",
    "    pass"
   ]
  },
  {
   "cell_type": "code",
   "execution_count": null,
   "metadata": {},
   "outputs": [],
   "source": [
    "select_file_object = Files_Handler()\n",
    "csv_files_object = CSV_Files()\n",
    "multiple_selecion = False\n",
    "\n",
    "data_path = select_file_object.select_files(\"text files\", \".csv\", 'Select Datasets', multiple_selecion)\n",
    "path = \"\"\n",
    "networks_content = []\n",
    "if multiple_selecion:\n",
    "    path = data_path[0][:data_path[0].rfind(\"/\")] + \"/\"\n",
    "    for item in data_path:\n",
    "        networks_content.append(pd.read_csv(item))\n",
    "else:\n",
    "    path = data_path[:data_path.rfind(\"/\")] + \"/\"\n",
    "    networks_name = select_file_object.get_files_in_path(path)\n",
    "    print(len(networks_name))\n",
    "    networks_content = csv_files_object.get_content_of_csv_files(path, networks_name, drop_centrality)\n",
    "\n",
    "# print(networks_content)\n"
   ]
  },
  {
   "cell_type": "code",
   "execution_count": null,
   "metadata": {},
   "outputs": [],
   "source": [
    "path\n",
    "root_path = ('/'.join(path.split('/')[:-2])) + '/'\n",
    "clean_data_path = select_file_object.make_dir(root_path, 'Clean Data')"
   ]
  },
  {
   "cell_type": "code",
   "execution_count": null,
   "metadata": {},
   "outputs": [],
   "source": [
    "for i, item in enumerate(networks_content):\n",
    "    if item.isnull().values.any():\n",
    "        print(i + 1, networks_name[i])\n",
    "    "
   ]
  },
  {
   "cell_type": "code",
   "execution_count": null,
   "metadata": {},
   "outputs": [],
   "source": [
    "data = pd.concat(networks_content, axis=0)\n",
    "del networks_content\n",
    "data = csv_files_object.scale_data(data, drop_centrality)\n",
    "data = data.sample(frac=1)\n",
    "orgin_data = copy.deepcopy(data)"
   ]
  },
  {
   "cell_type": "code",
   "execution_count": null,
   "metadata": {},
   "outputs": [],
   "source": [
    "print(data.shape)\n",
    "data.head(5)\n"
   ]
  },
  {
   "cell_type": "code",
   "execution_count": null,
   "metadata": {},
   "outputs": [],
   "source": [
    "# gaussian_kde_func(data, clean_data_path)"
   ]
  },
  {
   "cell_type": "code",
   "execution_count": null,
   "metadata": {},
   "outputs": [],
   "source": [
    "y_data = data['SIR'].values\n",
    "data = data.drop('SIR', axis=1)\n",
    "data.head(5)"
   ]
  },
  {
   "cell_type": "code",
   "execution_count": null,
   "metadata": {},
   "outputs": [],
   "source": [
    "dataset = data.values\n",
    "print(len(data.index))"
   ]
  },
  {
   "cell_type": "code",
   "execution_count": null,
   "metadata": {},
   "outputs": [],
   "source": [
    "n_neighbors = 500\n",
    "neighbors = NearestNeighbors(n_neighbors=n_neighbors)\n",
    "neighbors_fit = neighbors.fit(dataset)\n",
    "distances, indices = neighbors_fit.kneighbors(dataset)\n",
    "distances = np.sort(distances, axis=0)"
   ]
  },
  {
   "cell_type": "code",
   "execution_count": null,
   "metadata": {},
   "outputs": [],
   "source": [
    "np.savetxt(clean_data_path + 'distances.csv', distances)"
   ]
  },
  {
   "cell_type": "code",
   "execution_count": null,
   "metadata": {},
   "outputs": [],
   "source": [
    "import numpy as np\n",
    "clean_data_path = \"D:/Masters thesis/Networks Dataset/Results/Multilayer/Clean Data/\"\n",
    "distances = np.loadtxt(clean_data_path + 'distances.csv')"
   ]
  },
  {
   "cell_type": "code",
   "execution_count": null,
   "metadata": {},
   "outputs": [],
   "source": [
    "n_neighbors = 500\n",
    "\n",
    "distances_ = copy.deepcopy(distances)\n",
    "distances_ = np.mean(distances[:,1:],axis=1)\n",
    "figure(figsize=(8, 6), dpi=256)\n",
    "plt.xlabel(\"Sampels\")\n",
    "plt.ylabel(\"Distance Average\")\n",
    "\n",
    "plt.grid(visible=True)\n",
    "plt.plot(distances_)\n",
    "plt.savefig(clean_data_path + f'NearestNeighbors n_neighbors={n_neighbors}.png')\n"
   ]
  },
  {
   "cell_type": "code",
   "execution_count": null,
   "metadata": {},
   "outputs": [],
   "source": [
    "dist_mean = distances_.mean()\n",
    "start_i = 0\n",
    "j = 0\n",
    "for i, item in enumerate(distances_):\n",
    "    if item > (dist_mean * 20):\n",
    "        start_i = int(i * (i / len(distances_))/1.5)\n",
    "        distances_t = distances_[start_i:i]\n",
    "        j = i\n",
    "        break\n",
    "figure(figsize=(8, 6), dpi=256)\n",
    "plt.xlabel(\"Sampels\")\n",
    "plt.ylabel(\"Distance Average\")\n",
    "plt.xlim((start_i,j))\n",
    "plt.grid(visible=True)\n",
    "plt.plot(distances)\n",
    "plt.savefig(clean_data_path + f'NearestNeighbors zoomed n_neighbors={n_neighbors}.png')\n"
   ]
  },
  {
   "cell_type": "code",
   "execution_count": null,
   "metadata": {},
   "outputs": [],
   "source": [
    "esp = 0.1\n",
    "min_samples = n_neighbors\n",
    "x = 300000\n",
    "labels, core_samples_mask, n_clusters = DBSCAN_func(dataset, esp, min_samples, x)\n",
    "np.histogram(labels)"
   ]
  },
  {
   "cell_type": "code",
   "execution_count": null,
   "metadata": {},
   "outputs": [],
   "source": [
    "plot_data_classes(dataset, labels, core_samples_mask, n_clusters, colors_list, clean_data_path, n_clusters, min_samples)"
   ]
  },
  {
   "cell_type": "code",
   "execution_count": null,
   "metadata": {},
   "outputs": [],
   "source": [
    "orgin_data = orgin_data.assign(class_type=pd.Series(labels).values)\n",
    "\n",
    "non_outlier_data = orgin_data.loc[orgin_data['class_type'] != -1]\n",
    "\n",
    "orgin_outlier_data = orgin_data.loc[orgin_data['class_type'] == -1]\n",
    "\n"
   ]
  },
  {
   "cell_type": "code",
   "execution_count": null,
   "metadata": {},
   "outputs": [],
   "source": [
    "# del orgin_data, data, dataset"
   ]
  },
  {
   "cell_type": "code",
   "execution_count": null,
   "metadata": {},
   "outputs": [],
   "source": [
    "orgin_data = copy.deepcopy(orgin_outlier_data)\n",
    "data = copy.deepcopy(orgin_outlier_data)\n",
    "data = data.drop(['SIR', 'class_type'], axis=1)\n",
    "print(data.shape)\n",
    "data.head(5)"
   ]
  },
  {
   "cell_type": "code",
   "execution_count": null,
   "metadata": {},
   "outputs": [],
   "source": [
    "dataset = data.values"
   ]
  },
  {
   "cell_type": "code",
   "execution_count": null,
   "metadata": {},
   "outputs": [],
   "source": [
    "# esp = 0.07\n",
    "# min_samples = n_neighbors\n",
    "# x = 20000\n",
    "labels, core_samples_mask, n_clusters = DBSCAN_func(dataset, esp, min_samples, x)\n",
    "np.histogram(labels)"
   ]
  },
  {
   "cell_type": "code",
   "execution_count": null,
   "metadata": {},
   "outputs": [],
   "source": [
    "plot_data_classes(dataset, labels, core_samples_mask, n_clusters, colors_list, clean_data_path, n_clusters, min_samples)"
   ]
  },
  {
   "cell_type": "code",
   "execution_count": null,
   "metadata": {},
   "outputs": [],
   "source": [
    "orgin_data = orgin_data.assign(class_type=pd.Series(labels).values)\n",
    "\n",
    "new_non_outlier_data = orgin_data.loc[orgin_data['class_type'] != -1]\n",
    "\n",
    "orgin_outlier_data = orgin_data.loc[orgin_data['class_type'] == -1]\n",
    "\n"
   ]
  },
  {
   "cell_type": "code",
   "execution_count": null,
   "metadata": {},
   "outputs": [],
   "source": [
    "non_outlier_data = pd.concat([non_outlier_data, new_non_outlier_data], axis=0)\n",
    "non_outlier_data.drop('class_type', axis=1)\n",
    "non_outlier_data.head(5)"
   ]
  },
  {
   "cell_type": "code",
   "execution_count": null,
   "metadata": {},
   "outputs": [],
   "source": [
    "print(non_outlier_data.shape)"
   ]
  },
  {
   "cell_type": "code",
   "execution_count": null,
   "metadata": {},
   "outputs": [],
   "source": [
    "non_outlier_data.to_csv(clean_data_path + \"data.csv\", encoding='utf-8', index=False, header=True)"
   ]
  },
  {
   "cell_type": "code",
   "execution_count": null,
   "metadata": {},
   "outputs": [],
   "source": [
    "gaussian_kde_func(non_outlier_data, clean_data_path)"
   ]
  }
 ],
 "metadata": {
  "kernelspec": {
   "display_name": "Python 3",
   "language": "python",
   "name": "python3"
  },
  "language_info": {
   "codemirror_mode": {
    "name": "ipython",
    "version": 3
   },
   "file_extension": ".py",
   "mimetype": "text/x-python",
   "name": "python",
   "nbconvert_exporter": "python",
   "pygments_lexer": "ipython3",
   "version": "3.11.2"
  }
 },
 "nbformat": 4,
 "nbformat_minor": 2
}
