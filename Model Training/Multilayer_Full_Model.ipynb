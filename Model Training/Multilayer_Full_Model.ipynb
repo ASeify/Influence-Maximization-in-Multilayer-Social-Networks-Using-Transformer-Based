{
 "cells": [
  {
   "cell_type": "code",
   "execution_count": 17,
   "metadata": {
    "colab": {
     "base_uri": "https://localhost:8080/"
    },
    "id": "sfCx_f-V1D-a",
    "outputId": "d19a3a67-0d43-4d44-93ba-2a589cdcbc2e"
   },
   "outputs": [
    {
     "name": "stdout",
     "output_type": "stream",
     "text": [
      "Fri Nov 29 15:59:26 2024       \n",
      "+-----------------------------------------------------------------------------+\n",
      "| NVIDIA-SMI 425.31       Driver Version: 425.31       CUDA Version: 10.1     |\n",
      "|-------------------------------+----------------------+----------------------+\n",
      "| GPU  Name            TCC/WDDM | Bus-Id        Disp.A | Volatile Uncorr. ECC |\n",
      "| Fan  Temp  Perf  Pwr:Usage/Cap|         Memory-Usage | GPU-Util  Compute M. |\n",
      "|===============================+======================+======================|\n",
      "|   0  GeForce GT 650M    WDDM  | 00000000:01:00.0 N/A |                  N/A |\n",
      "| N/A   73C    P0    N/A /  N/A |     40MiB /  2048MiB |     N/A      Default |\n",
      "+-------------------------------+----------------------+----------------------+\n",
      "                                                                               \n",
      "+-----------------------------------------------------------------------------+\n",
      "| Processes:                                                       GPU Memory |\n",
      "|  GPU       PID   Type   Process name                             Usage      |\n",
      "|=============================================================================|\n",
      "|    0                    Not Supported                                       |\n",
      "+-----------------------------------------------------------------------------+\n"
     ]
    }
   ],
   "source": [
    "!nvidia-smi"
   ]
  },
  {
   "cell_type": "code",
   "execution_count": 18,
   "metadata": {
    "colab": {
     "base_uri": "https://localhost:8080/"
    },
    "id": "F9lQcKt-GqJr",
    "outputId": "74d897e5-1ea8-49d1-e1c3-a3e7fa69e71d"
   },
   "outputs": [],
   "source": [
    "import torch\n",
    "import torch.nn as nn\n",
    "import torch.optim as optim\n",
    "\n",
    "from torch.utils.data import TensorDataset, DataLoader, random_split\n",
    "from torch.nn.utils import parameters_to_vector, vector_to_parameters\n",
    "\n",
    "from sklearn.model_selection import train_test_split\n",
    "from sklearn.preprocessing import StandardScaler\n",
    "import matplotlib.pyplot as plt\n",
    "\n",
    "from tqdm import tqdm\n",
    "\n",
    "from termcolor import colored\n",
    "import copy\n",
    "import numpy as np\n",
    "import pandas as pd\n",
    "import os\n",
    "import sys\n",
    "from datetime import datetime\n"
   ]
  },
  {
   "cell_type": "code",
   "execution_count": 19,
   "metadata": {},
   "outputs": [],
   "source": [
    "CLASSES_PATH = os.path.dirname(os.path.abspath(\"../../Classes\"))\n",
    "if not (CLASSES_PATH in sys.path):\n",
    "    sys.path.append(CLASSES_PATH)\n",
    "from Classes.Files_Handler_Class import Files_Handler\n",
    "from Classes.Bcolors_Class import Bcolors as bcolors\n",
    "from Classes.Average_Meter_Class import AverageMeter"
   ]
  },
  {
   "cell_type": "code",
   "execution_count": 20,
   "metadata": {},
   "outputs": [],
   "source": [
    "layer_centrality = ['layer_density','layer_degree_histogram','layer_edge_weight',\n",
    "                    'layer_sombor_index', 'layer_nodes_weight','layer_k_shell_weight']\n",
    "node_centrality = ['degree', 'clustering', 'nip', 'sombor_index', 'ego_density','ego_degree',\n",
    "                     'ego_k_shell', 'ego_degree_mean','kss', 'vote_power']\n",
    "drop_centrality = ['layer_id', 'node_id', 'weight', 'k_shell', 'k_shell_itr']"
   ]
  },
  {
   "cell_type": "code",
   "execution_count": 47,
   "metadata": {
    "colab": {
     "base_uri": "https://localhost:8080/"
    },
    "id": "7_AdeP_ShSMR",
    "outputId": "59edef80-c4fe-45db-df23-e708276e3104"
   },
   "outputs": [],
   "source": [
    "best_train_model = False\n",
    "loaded_model = '' # 'D:/Masters thesis/Networks Dataset/Results/Model/highest_epoch_train model lr=1e-07 wd=0 epochs=428  loss_valid=6.5379 loss_train=6.5929.pt'\n",
    "loaded_node_layer_embedding_model = 'D:/Masters thesis/Code/Neural Network/Final_Models/Node_Layer_Embedding_Model/2024_11_29_15/model.pt' \n",
    "loaded_optimizer = '' # 'D:/Masters thesis/Networks Dataset/Results/Model/highest_epoch_train Adam lr=1e-07 wd=0 epochs=428  loss_valid=6.5379 loss_train=6.5929.optim'\n",
    "data_path = 'D:/Masters thesis/Networks Dataset/Results/Monoplex/Clean Data/data.csv'\n"
   ]
  },
  {
   "cell_type": "code",
   "execution_count": 22,
   "metadata": {
    "id": "eIcpsUkKcg33"
   },
   "outputs": [],
   "source": [
    "def get_content_of_csv_files(path: \"str\", files_list: \"list\", drop_culm:list[str]=[]):\n",
    "    content_list = []\n",
    "    for item in files_list:\n",
    "        content_list.append(pd.read_csv(str(path + item)))\n",
    "        content_list[-1] = content_list[-1].drop(drop_culm, axis=1)\n",
    "        null_values = content_list[-1].isnull().sum()\n",
    "        null_row_cunt = null_values.sum()\n",
    "        if null_row_cunt > 0:\n",
    "            print(item, null_row_cunt)\n",
    "            for j, jtem in enumerate(null_values):\n",
    "                if jtem > 0 :\n",
    "                    print(list(content_list[-1])[j], jtem)\n",
    "        content_list[-1] = content_list[-1].dropna()\n",
    "    return content_list"
   ]
  },
  {
   "cell_type": "code",
   "execution_count": 23,
   "metadata": {
    "colab": {
     "base_uri": "https://localhost:8080/"
    },
    "id": "wU9N7cKIcg34",
    "outputId": "ad3b2156-189d-4692-8be2-9a793c7d0898"
   },
   "outputs": [
    {
     "name": "stdout",
     "output_type": "stream",
     "text": [
      "1\n"
     ]
    }
   ],
   "source": [
    "select_file_object = Files_Handler()\n",
    "multiple_selecion = False\n",
    "\n",
    "# data_path = select_file_object.select_files(\"text files\", \".csv\", multiple_selecion)\n",
    "path = \"\"\n",
    "networks_content = []\n",
    "\n",
    "if multiple_selecion:\n",
    "    path = data_path[0][:data_path[0].rfind(\"/\")] + \"/\"\n",
    "    for item in data_path:\n",
    "        networks_content.append(pd.read_csv(item))\n",
    "else:\n",
    "    path = data_path[:data_path.rfind(\"/\")] + \"/\"\n",
    "    networks_name = select_file_object.get_files_in_path(path,'csv')\n",
    "    networks_content = get_content_of_csv_files(path, networks_name)\n",
    "print(len(networks_name))"
   ]
  },
  {
   "cell_type": "code",
   "execution_count": 24,
   "metadata": {
    "colab": {
     "base_uri": "https://localhost:8080/"
    },
    "id": "LvMfQRTe09HB",
    "outputId": "4fd1a953-319a-400b-d0cb-38d566852ffd"
   },
   "outputs": [
    {
     "name": "stdout",
     "output_type": "stream",
     "text": [
      "\u001b[91mLoad model: False\u001b[0m\n"
     ]
    }
   ],
   "source": [
    "load_model_status = False\n",
    "# loaded_model = select_file_object.select_files(\"Model file\", \".pt\", False)\n",
    "loaded_lr, loaded_wd, loaded_epochs = None, None, None\n",
    "if loaded_model != '':\n",
    "    loaded_model_info = select_file_object.get_file_path_info(loaded_model)\n",
    "    if best_train_model:\n",
    "      loaded_lr = float(loaded_model_info['name'].split(\" \")[2].split(\"=\")[1])\n",
    "      loaded_wd = float(loaded_model_info['name'].split(\" \")[3].split(\"=\")[1])\n",
    "      loaded_epochs = int(loaded_model_info['name'].split(\" \")[4].split(\"=\")[1])\n",
    "    else:\n",
    "      loaded_lr = float(loaded_model_info['name'].split(\" \")[2].split(\"=\")[1])\n",
    "      loaded_wd = float(loaded_model_info['name'].split(\" \")[3].split(\"=\")[1])\n",
    "      loaded_epochs = int(loaded_model_info['name'].split(\" \")[4].split(\"=\")[1])\n",
    "\n",
    "    load_model_status = True\n",
    "if load_model_status:\n",
    "  print(bcolors.OKGREEN + f\"Load model: {load_model_status}\" + bcolors.ENDC)\n",
    "  print()\n",
    "  print(bcolors.OKBLUE + loaded_model_info['path']+ bcolors.ENDC)\n",
    "  print(bcolors.WARNING + loaded_model_info['name']+ bcolors.ENDC)\n",
    "  print()\n",
    "  print(bcolors.OKGREEN + f\"loaded_lr: {loaded_lr}\"  + bcolors.ENDC)\n",
    "  print(f\"loaded_wd: {loaded_wd}\")\n",
    "  print(bcolors.FAIL + f\"loaded_epochs: {loaded_epochs}\" + bcolors.ENDC)\n",
    "else:\n",
    "   print(bcolors.FAIL + f\"Load model: {load_model_status}\" + bcolors.ENDC)\n"
   ]
  },
  {
   "cell_type": "code",
   "execution_count": 25,
   "metadata": {
    "id": "1KT6MLOXcg34"
   },
   "outputs": [],
   "source": [
    "data = pd.concat(networks_content, axis=0)\n",
    "del networks_content"
   ]
  },
  {
   "cell_type": "code",
   "execution_count": 26,
   "metadata": {},
   "outputs": [],
   "source": [
    "y_data = data['SIR'].values\n",
    "data = data.drop(['SIR','class_type'], axis=1)"
   ]
  },
  {
   "cell_type": "code",
   "execution_count": 27,
   "metadata": {},
   "outputs": [],
   "source": [
    "# import math\n",
    "# from scipy import stats\n",
    "# for column in list(data):\n",
    "#     kde = stats.gaussian_kde(data[column])\n",
    "#     x = np.linspace(data[column].min(), data[column].max(), 100)\n",
    "#     y = kde(x)\n",
    "#     plt.figure(figsize=(10,6))\n",
    "#     plt.plot(x, y)\n",
    "#     plt.fill_between(x, y, alpha=0.5)\n",
    "#     plt.xlabel(column)\n",
    "#     plt.ylabel('Frequency')\n",
    "#     plt.xlim(math.floor(data[column].min()), math.ceil(data[column].max()))\n",
    "#     plt.show()"
   ]
  },
  {
   "cell_type": "code",
   "execution_count": 28,
   "metadata": {},
   "outputs": [],
   "source": [
    "# def feature_selection():\n",
    "#     for column in list(data):\n",
    "#         column_mean = data[column].mean()\n",
    "#         # print(column)\n",
    "#         # print(column_mean)\n",
    "#         if column_mean >= (1/10000) and column_mean < (1/1000):\n",
    "#             data[column] = data[column] * 1000\n",
    "#         elif column_mean >= (1/1000) and column_mean < (1/100):\n",
    "#             data[column] = data[column] * 100\n",
    "#         elif column_mean >= (1/100) and column_mean < (1/10):\n",
    "#             data[column] = data[column] * 10\n",
    "#         elif column_mean >= 10 and column_mean < 100:\n",
    "#             data[column] = data[column] / 10\n",
    "#         elif column_mean >= 100 and column_mean < 1000:\n",
    "#             data[column] = data[column] / 100\n",
    "#         elif column_mean >= 1000 and column_mean < 10000:\n",
    "#             data[column] = data[column] / 1000\n",
    "#         elif column_mean >= 10000 and column_mean < 100000:\n",
    "#             data[column] = data[column] / 10000\n",
    "#         elif column_mean >= 100000 and column_mean < 1000000:\n",
    "#             data[column] = data[column] / 100000\n",
    "#         elif column_mean >= 1000000 and column_mean < 10000000:\n",
    "#             data[column] = data[column] / 10000000\n",
    "#         elif column_mean >= 10000000 and column_mean < 100000000:\n",
    "#             data[column] = data[column] / 100000000\n",
    "#         column_mean = data[column].mean()\n",
    "#         # print(column_mean, '\\n')"
   ]
  },
  {
   "cell_type": "code",
   "execution_count": 29,
   "metadata": {},
   "outputs": [],
   "source": [
    "# import math\n",
    "# from scipy import stats\n",
    "# for column in list(data):\n",
    "#     kde = stats.gaussian_kde(data[column])\n",
    "#     x = np.linspace(data[column].min(), data[column].max(), 100)\n",
    "#     y = kde(x)\n",
    "#     plt.figure(figsize=(10,6))\n",
    "#     plt.plot(x, y)\n",
    "#     plt.fill_between(x, y, alpha=0.5)\n",
    "#     plt.xlabel(column)\n",
    "#     plt.ylabel('Frequency')\n",
    "#     plt.xlim(math.floor(data[column].min()), math.ceil(data[column].max()))\n",
    "#     plt.show()"
   ]
  },
  {
   "cell_type": "code",
   "execution_count": 30,
   "metadata": {},
   "outputs": [
    {
     "data": {
      "text/html": [
       "<div>\n",
       "<style scoped>\n",
       "    .dataframe tbody tr th:only-of-type {\n",
       "        vertical-align: middle;\n",
       "    }\n",
       "\n",
       "    .dataframe tbody tr th {\n",
       "        vertical-align: top;\n",
       "    }\n",
       "\n",
       "    .dataframe thead th {\n",
       "        text-align: right;\n",
       "    }\n",
       "</style>\n",
       "<table border=\"1\" class=\"dataframe\">\n",
       "  <thead>\n",
       "    <tr style=\"text-align: right;\">\n",
       "      <th></th>\n",
       "      <th>degree</th>\n",
       "      <th>clustering</th>\n",
       "      <th>nip</th>\n",
       "      <th>sombor_index</th>\n",
       "      <th>ego_density</th>\n",
       "      <th>ego_degree</th>\n",
       "      <th>ego_k_shell</th>\n",
       "      <th>ego_degree_mean</th>\n",
       "      <th>kss</th>\n",
       "      <th>vote_power</th>\n",
       "    </tr>\n",
       "  </thead>\n",
       "  <tbody>\n",
       "    <tr>\n",
       "      <th>0</th>\n",
       "      <td>1</td>\n",
       "      <td>0.000000</td>\n",
       "      <td>0.000931</td>\n",
       "      <td>0.000520</td>\n",
       "      <td>0.000253</td>\n",
       "      <td>-0.006550</td>\n",
       "      <td>0.000001</td>\n",
       "      <td>0.006845</td>\n",
       "      <td>0.00200</td>\n",
       "      <td>1.000000</td>\n",
       "    </tr>\n",
       "    <tr>\n",
       "      <th>1</th>\n",
       "      <td>12</td>\n",
       "      <td>0.409091</td>\n",
       "      <td>0.002001</td>\n",
       "      <td>0.002322</td>\n",
       "      <td>0.000704</td>\n",
       "      <td>-0.005338</td>\n",
       "      <td>0.000794</td>\n",
       "      <td>0.010925</td>\n",
       "      <td>0.04172</td>\n",
       "      <td>2.679797</td>\n",
       "    </tr>\n",
       "    <tr>\n",
       "      <th>2</th>\n",
       "      <td>16</td>\n",
       "      <td>0.350000</td>\n",
       "      <td>0.006281</td>\n",
       "      <td>0.006236</td>\n",
       "      <td>0.000988</td>\n",
       "      <td>-0.020915</td>\n",
       "      <td>0.001494</td>\n",
       "      <td>0.037572</td>\n",
       "      <td>0.06944</td>\n",
       "      <td>2.667096</td>\n",
       "    </tr>\n",
       "  </tbody>\n",
       "</table>\n",
       "</div>"
      ],
      "text/plain": [
       "   degree  clustering       nip  sombor_index  ego_density  ego_degree  \\\n",
       "0       1    0.000000  0.000931      0.000520     0.000253   -0.006550   \n",
       "1      12    0.409091  0.002001      0.002322     0.000704   -0.005338   \n",
       "2      16    0.350000  0.006281      0.006236     0.000988   -0.020915   \n",
       "\n",
       "   ego_k_shell  ego_degree_mean      kss  vote_power  \n",
       "0     0.000001         0.006845  0.00200    1.000000  \n",
       "1     0.000794         0.010925  0.04172    2.679797  \n",
       "2     0.001494         0.037572  0.06944    2.667096  "
      ]
     },
     "execution_count": 30,
     "metadata": {},
     "output_type": "execute_result"
    }
   ],
   "source": [
    "data[node_centrality].head(3)"
   ]
  },
  {
   "cell_type": "code",
   "execution_count": 31,
   "metadata": {},
   "outputs": [
    {
     "data": {
      "text/html": [
       "<div>\n",
       "<style scoped>\n",
       "    .dataframe tbody tr th:only-of-type {\n",
       "        vertical-align: middle;\n",
       "    }\n",
       "\n",
       "    .dataframe tbody tr th {\n",
       "        vertical-align: top;\n",
       "    }\n",
       "\n",
       "    .dataframe thead th {\n",
       "        text-align: right;\n",
       "    }\n",
       "</style>\n",
       "<table border=\"1\" class=\"dataframe\">\n",
       "  <thead>\n",
       "    <tr style=\"text-align: right;\">\n",
       "      <th></th>\n",
       "      <th>layer_density</th>\n",
       "      <th>layer_degree_histogram</th>\n",
       "      <th>layer_edge_weight</th>\n",
       "      <th>layer_sombor_index</th>\n",
       "      <th>layer_nodes_weight</th>\n",
       "      <th>layer_k_shell_weight</th>\n",
       "    </tr>\n",
       "  </thead>\n",
       "  <tbody>\n",
       "    <tr>\n",
       "      <th>0</th>\n",
       "      <td>0.003593</td>\n",
       "      <td>25.352133</td>\n",
       "      <td>0.89455</td>\n",
       "      <td>7.879035</td>\n",
       "      <td>0.7057</td>\n",
       "      <td>33.705675</td>\n",
       "    </tr>\n",
       "    <tr>\n",
       "      <th>1</th>\n",
       "      <td>0.003593</td>\n",
       "      <td>25.352133</td>\n",
       "      <td>0.89455</td>\n",
       "      <td>7.879035</td>\n",
       "      <td>0.7057</td>\n",
       "      <td>33.705675</td>\n",
       "    </tr>\n",
       "    <tr>\n",
       "      <th>2</th>\n",
       "      <td>0.003593</td>\n",
       "      <td>25.352133</td>\n",
       "      <td>0.89455</td>\n",
       "      <td>7.879035</td>\n",
       "      <td>0.7057</td>\n",
       "      <td>33.705675</td>\n",
       "    </tr>\n",
       "  </tbody>\n",
       "</table>\n",
       "</div>"
      ],
      "text/plain": [
       "   layer_density  layer_degree_histogram  layer_edge_weight  \\\n",
       "0       0.003593               25.352133            0.89455   \n",
       "1       0.003593               25.352133            0.89455   \n",
       "2       0.003593               25.352133            0.89455   \n",
       "\n",
       "   layer_sombor_index  layer_nodes_weight  layer_k_shell_weight  \n",
       "0            7.879035              0.7057             33.705675  \n",
       "1            7.879035              0.7057             33.705675  \n",
       "2            7.879035              0.7057             33.705675  "
      ]
     },
     "execution_count": 31,
     "metadata": {},
     "output_type": "execute_result"
    }
   ],
   "source": [
    "data[layer_centrality].head(3)"
   ]
  },
  {
   "cell_type": "code",
   "execution_count": 32,
   "metadata": {},
   "outputs": [],
   "source": [
    "import scipy.stats as stats\n",
    "alpha = 0.5\n",
    "\n",
    "for i, item in enumerate(node_centrality):\n",
    "    j =  i + 1\n",
    "    while j < (len(node_centrality) -1):\n",
    "        _,p_value = stats.ttest_ind(a=data[item].values, b=data[node_centrality[j]].values, equal_var=False)\n",
    "        if p_value > alpha:\n",
    "            print(bcolors.FAIL + item + \" -> \" + node_centrality[j]+ \": \" + str(p_value) + bcolors.ENDC)\n",
    "        j += 1"
   ]
  },
  {
   "cell_type": "code",
   "execution_count": null,
   "metadata": {},
   "outputs": [],
   "source": [
    "# data = data.sample(frac = 1) # Shuffle data\n",
    "\n",
    "# std_scaler = StandardScaler()\n",
    "# data_scaled = std_scaler.fit_transform(data.to_numpy())\n",
    "# data_scaled = pd.DataFrame(data_scaled, columns=[node_centrality + layer_centrality])\n",
    "\n",
    "# data = data_scaled\n",
    "\n",
    "# data_min = data.min()\n",
    "# data_max = data.max()\n",
    "# data_scaled = (data-data_min)/(data_max-data_min)\n",
    "\n",
    "# data = data_scaled"
   ]
  },
  {
   "cell_type": "code",
   "execution_count": 33,
   "metadata": {
    "colab": {
     "base_uri": "https://localhost:8080/"
    },
    "id": "zcUoF0GVcg35",
    "outputId": "ecc326ee-825f-493f-f45d-8a95c04085d0"
   },
   "outputs": [
    {
     "name": "stdout",
     "output_type": "stream",
     "text": [
      "\u001b[94mNode Data: (64535, 10)\u001b[0m\n",
      "\u001b[91mLayer Data: (64535, 6)\u001b[0m\n",
      "\u001b[92mSIR Data: (64535,)\u001b[0m\n"
     ]
    }
   ],
   "source": [
    "layer_x_data = data[layer_centrality].values\n",
    "node_x_data = data[node_centrality].values\n",
    "\n",
    "print(bcolors.OKBLUE + f\"Node Data: {node_x_data.shape}\" + bcolors.ENDC)\n",
    "print(bcolors.FAIL + f\"Layer Data: {layer_x_data.shape}\" + bcolors.ENDC)\n",
    "print(bcolors.OKGREEN + f\"SIR Data: {y_data.shape}\" + bcolors.ENDC)\n",
    "\n",
    "del data"
   ]
  },
  {
   "cell_type": "code",
   "execution_count": 34,
   "metadata": {
    "colab": {
     "base_uri": "https://localhost:8080/"
    },
    "id": "Ei9urVSqcg36",
    "outputId": "396b98e0-b917-40ed-e270-88e4b160f532"
   },
   "outputs": [
    {
     "name": "stdout",
     "output_type": "stream",
     "text": [
      "\u001b[94mNode Data: torch.Size([64535, 10])\u001b[0m\n",
      "\u001b[91mLayer Data: torch.Size([64535, 6])\u001b[0m\n",
      "\u001b[92mGround Truth: torch.Size([64535])\u001b[0m\n"
     ]
    }
   ],
   "source": [
    "node_x_data = torch.FloatTensor(node_x_data)\n",
    "layer_x_data = torch.FloatTensor(layer_x_data)\n",
    "y_data = torch.FloatTensor(y_data)\n",
    "\n",
    "print(bcolors.OKBLUE + f\"Node Data: {node_x_data.shape}\" + bcolors.ENDC)\n",
    "print(bcolors.FAIL + f\"Layer Data: {layer_x_data.shape}\" + bcolors.ENDC)\n",
    "print(bcolors.OKGREEN + f\"Ground Truth: {y_data.shape}\" + bcolors.ENDC)\n",
    "# node_x_data"
   ]
  },
  {
   "cell_type": "code",
   "execution_count": 36,
   "metadata": {
    "colab": {
     "base_uri": "https://localhost:8080/"
    },
    "id": "ZXNRfnbGcg37",
    "outputId": "ff02c032-0988-4fa6-caec-938e4c247b28"
   },
   "outputs": [
    {
     "name": "stdout",
     "output_type": "stream",
     "text": [
      "\u001b[94mNode Data:\n",
      "  Train: torch.Size([51628, 10])\n",
      "  Test:  torch.Size([12907, 10])\u001b[0m\n",
      "\n",
      "\u001b[91mLayer Data:\n",
      "  Train: torch.Size([51628, 6])\n",
      "  Test:  torch.Size([12907, 6])\u001b[0m\n",
      "\n",
      "\u001b[92mGround Truth:\n",
      "  Train: torch.Size([51628])\n",
      "  Test:  torch.Size([12907])\u001b[0m\n"
     ]
    }
   ],
   "source": [
    "(node_x_train, node_x_test,\n",
    "layer_x_train, layer_x_test,\n",
    "y_train, y_test) = train_test_split(node_x_data, layer_x_data, y_data,\n",
    "                                    train_size=0.8, shuffle=True, random_state=64)\n",
    "\n",
    "if True:\n",
    "    print(bcolors.OKBLUE + \"Node Data:\")\n",
    "    print(\"  Train: \" + str(node_x_train.shape))\n",
    "    print(\"  Test:  \"  + str(node_x_test.shape) + bcolors.ENDC)\n",
    "    print()\n",
    "    print(bcolors.FAIL + \"Layer Data:\")\n",
    "    print(\"  Train: \" + str(layer_x_train.shape))\n",
    "    print(\"  Test:  \" + str(layer_x_test.shape) + bcolors.ENDC)\n",
    "    print()\n",
    "    print(bcolors.OKGREEN + \"Ground Truth:\")\n",
    "    print(\"  Train: \" + str(y_train.shape))\n",
    "    print(\"  Test:  \" + str(y_test.shape) + bcolors.ENDC)"
   ]
  },
  {
   "cell_type": "code",
   "execution_count": 37,
   "metadata": {
    "colab": {
     "base_uri": "https://localhost:8080/"
    },
    "id": "MlY3sHDj09HD",
    "outputId": "10eeecaf-81f0-481c-a739-bfbb016e9eb8"
   },
   "outputs": [
    {
     "name": "stdout",
     "output_type": "stream",
     "text": [
      "\u001b[92mnode_mu:\n",
      "    \u001b[0mtensor([ 3.1680e+01,  2.0773e-01,  9.3232e-02,  7.6925e-02,  2.1246e-03,\n",
      "        -1.1202e-01,  3.7942e-01,  6.6942e-01,  1.5046e+00,  2.6891e+00])\n",
      "\n",
      "\u001b[92mnode_std:\n",
      "    \u001b[0mtensor([5.1193e+01, 2.5793e-01, 1.3750e-01, 1.3687e-01, 5.0966e-03, 6.4119e-01,\n",
      "        1.5052e+00, 1.1517e+00, 4.8193e+00, 4.8490e+00])\n",
      "\n",
      "\n",
      "\u001b[91mlayer_mu:\n",
      "   \u001b[0mtensor([7.3550e-03, 3.6733e+01, 1.2792e+00, 1.0452e+02, 6.8180e-01, 1.2566e+02])\n",
      "\n",
      "\u001b[91mlayer_std:\n",
      "   \u001b[0mtensor([1.0870e-02, 3.9736e+01, 1.7023e+00, 2.1064e+02, 2.5813e-01, 1.7113e+02])\n"
     ]
    }
   ],
   "source": [
    "#-------------------------------------------------------------\n",
    "node_mu = node_x_train.mean(dim=0)\n",
    "node_std = node_x_train.std(dim=0)\n",
    "print(bcolors.OKGREEN + \"node_mu:\\n    \" + bcolors.ENDC + str(node_mu) + '\\n')\n",
    "print(bcolors.OKGREEN + \"node_std:\\n    \" + bcolors.ENDC  + str(node_std) + '\\n\\n')\n",
    "\n",
    "node_x_train = (node_x_train - node_mu) / node_std\n",
    "node_x_test = (node_x_test - node_mu) / node_std\n",
    "#-------------------------------------------------------------\n",
    "layer_mu = layer_x_train.mean(dim=0)\n",
    "layer_std = layer_x_train.std(dim=0)\n",
    "print(bcolors.FAIL + \"layer_mu:\\n   \" + bcolors.ENDC + str(layer_mu) + '\\n')\n",
    "print(bcolors.FAIL + \"layer_std:\\n   \" + bcolors.ENDC + str(layer_std) )\n",
    "\n",
    "layer_x_train = (layer_x_train - layer_mu) / layer_std\n",
    "layer_x_test = (layer_x_test - layer_mu) / layer_std\n",
    "#-------------------------------------------------------------"
   ]
  },
  {
   "cell_type": "code",
   "execution_count": 38,
   "metadata": {
    "id": "tYiQWytscg37"
   },
   "outputs": [],
   "source": [
    "del node_x_data, layer_x_data, y_data"
   ]
  },
  {
   "cell_type": "code",
   "execution_count": 39,
   "metadata": {},
   "outputs": [
    {
     "data": {
      "text/plain": [
       "'cpu'"
      ]
     },
     "execution_count": 39,
     "metadata": {},
     "output_type": "execute_result"
    }
   ],
   "source": [
    "device = 'cuda' if torch.cuda.is_available() else 'cpu'\n",
    "if device == 'cuda':\n",
    "    torch.cuda.empty_cache()\n",
    "device"
   ]
  },
  {
   "cell_type": "code",
   "execution_count": 40,
   "metadata": {
    "id": "4ix2pBxWcg37"
   },
   "outputs": [],
   "source": [
    "train_set = TensorDataset(node_x_train, layer_x_train, y_train)\n",
    "test_set = TensorDataset(node_x_test, layer_x_test, y_test)"
   ]
  },
  {
   "cell_type": "code",
   "execution_count": 41,
   "metadata": {
    "id": "dkpEL5rocg37"
   },
   "outputs": [],
   "source": [
    "del node_x_train, layer_x_train, y_train, node_x_test, layer_x_test, y_test"
   ]
  },
  {
   "cell_type": "code",
   "execution_count": 42,
   "metadata": {
    "id": "RAGTrc0Pcg37"
   },
   "outputs": [],
   "source": [
    "batch_size = 16\n",
    "train_loader = DataLoader(train_set, batch_size=batch_size, shuffle=True)\n",
    "test_loader = DataLoader(test_set, batch_size=batch_size, shuffle=False)"
   ]
  },
  {
   "cell_type": "code",
   "execution_count": 43,
   "metadata": {
    "colab": {
     "base_uri": "https://localhost:8080/"
    },
    "id": "fNSwKyftcg38",
    "outputId": "1663cebd-4437-45f8-a945-1b5bf21d8d91"
   },
   "outputs": [
    {
     "name": "stdout",
     "output_type": "stream",
     "text": [
      "\u001b[94mNode data shape   . . . . : torch.Size([16, 10])\u001b[0m\n",
      "\u001b[91mLayer data shape  . . . . : torch.Size([16, 6])\u001b[0m\n",
      "\u001b[92mGround Truth data shape . : torch.Size([16])\u001b[0m\n"
     ]
    }
   ],
   "source": [
    "node_x, layer_x, y = next(iter(train_loader))\n",
    "print(bcolors.OKBLUE + \"Node data shape   . . . . : \" + str(node_x.shape) + bcolors.ENDC)\n",
    "print(bcolors.FAIL + \"Layer data shape  . . . . : \" + str(layer_x.shape) + bcolors.ENDC)\n",
    "print(bcolors.OKGREEN + \"Ground Truth data shape . : \" + str(y.shape) + bcolors.ENDC)"
   ]
  },
  {
   "cell_type": "code",
   "execution_count": 44,
   "metadata": {
    "id": "krx4P9TScg38"
   },
   "outputs": [],
   "source": [
    "class Node_Embedding_Model(nn.Module):\n",
    "\n",
    "    def __init__(\n",
    "        self, node_in_features: int, node_out_features: int,\n",
    "        bias: bool, activation: nn.modules.activation, device: str = \"cpu\",\n",
    "        h0:int = 8, h1: int = 16, h2: int = 32, h3: int = 64, h4: int = 128, h5 = 256\n",
    "    ):\n",
    "        super().__init__()\n",
    "        self.node_embeding = nn.Sequential(\n",
    "            nn.Linear(in_features=node_in_features, out_features=h1, bias=bias, device=device),\n",
    "            activation,\n",
    "            nn.Linear(in_features=h1, out_features=h2, bias=bias, device=device),\n",
    "            activation,\n",
    "            nn.Linear(in_features=h2, out_features=h3, bias=bias, device=device),\n",
    "            activation,\n",
    "            nn.Linear(in_features=h3, out_features=h4, bias=bias, device=device),\n",
    "            activation,\n",
    "            nn.Linear(in_features=h4, out_features=node_out_features, bias=bias, device=device)\n",
    "        )\n",
    "        self.regression = nn.Sequential(\n",
    "            nn.Linear(in_features=node_out_features, out_features=1, bias=False, device=device),\n",
    "        )\n",
    "\n",
    "    def forward(self, node_x):\n",
    "        node_y = self.node_embeding(node_x).unsqueeze(dim=1)\n",
    "        y = self.regression(node_y)\n",
    "        return y\n",
    "   \n",
    "class Node_Layer_Embedding_Model(nn.Module):\n",
    "\n",
    "    def __init__(\n",
    "        self, node_in_features: int, node_out_features: int,\n",
    "        layer_in_features: int, layer_out_features: int,        \n",
    "        bias: bool, activation: nn.modules.activation, device: str = \"cpu\",\n",
    "        h0:int = 8, h1: int = 16, h2: int = 32, h3: int = 64, h4: int = 128, h5 = 256\n",
    "    ):\n",
    "        super().__init__()\n",
    "        self.node_embeding = nn.Sequential(\n",
    "            nn.Linear(in_features=node_in_features, out_features=h1, bias=bias, device=device),\n",
    "            activation,\n",
    "            nn.Linear(in_features=h1, out_features=h2, bias=bias, device=device),\n",
    "            activation,\n",
    "            nn.Linear(in_features=h2, out_features=h3, bias=bias, device=device),\n",
    "            activation,\n",
    "            nn.Linear(in_features=h3, out_features=h4, bias=bias, device=device),\n",
    "            activation,\n",
    "            nn.Linear(in_features=h4, out_features=node_out_features, bias=bias, device=device)\n",
    "        )\n",
    "        self.layer_embeding = nn.Sequential(\n",
    "            nn.Linear(in_features=layer_in_features, out_features=h1, bias=bias, device=device),\n",
    "            activation,\n",
    "            nn.Linear(in_features=h1, out_features=h2, bias=bias, device=device),\n",
    "            activation,\n",
    "            nn.Linear(in_features=h2, out_features=h3, bias=bias, device=device),\n",
    "            activation,\n",
    "            nn.Linear(in_features=h3, out_features=h4, bias=bias, device=device),\n",
    "            activation,\n",
    "            nn.Linear(in_features=h4, out_features=layer_out_features, bias=bias, device=device)\n",
    "            )\n",
    "        \n",
    "        self.regression = nn.Sequential(\n",
    "            nn.Linear(in_features=node_out_features, out_features=1, bias=False, device=device),\n",
    "        )\n",
    "\n",
    "    def forward(self, node_x, layer_x):\n",
    "        node_y = self.node_embeding(node_x).unsqueeze(dim=2)\n",
    "        layer_y = self.layer_embeding(layer_x).unsqueeze(dim=1)\n",
    "        y = torch.matmul(node_y, layer_y)\n",
    "        y = torch.mean(y, dim=1)\n",
    "        y = self.regression(y)\n",
    "        return y\n",
    "\n",
    "class Multilayer_Full_Model(nn.Module):\n",
    "\n",
    "    def __init__(\n",
    "        self, node_in_features: int, node_out_features: int,\n",
    "        layer_in_features: int, layer_out_features: int,\n",
    "        encoder_head: int, num_encoder:int, encoder_activation: str,\n",
    "        bias: bool, dropout: float,\n",
    "        activation: nn.modules.activation, device: str = \"cpu\",\n",
    "        h0:int = 8, h1: int = 16, h2: int = 32, h3: int = 64, h4: int = 128, h5 = 256\n",
    "    ):\n",
    "        super().__init__()\n",
    "        self.node_embeding = nn.Sequential(\n",
    "            nn.Linear(in_features=node_in_features, out_features=h1, bias=bias, device=device),\n",
    "            activation,\n",
    "            nn.Linear(in_features=h1, out_features=h2, bias=bias, device=device),\n",
    "            activation,\n",
    "            nn.Linear(in_features=h2, out_features=h3, bias=bias, device=device),\n",
    "            activation,\n",
    "            nn.Linear(in_features=h3, out_features=h4, bias=bias, device=device),\n",
    "            activation,\n",
    "            nn.Linear(in_features=h4, out_features=node_out_features, bias=bias, device=device)\n",
    "        )\n",
    "        self.layer_embeding = nn.Sequential(\n",
    "            nn.Linear(in_features=layer_in_features, out_features=h1, bias=bias, device=device),\n",
    "            activation,\n",
    "            nn.Linear(in_features=h1, out_features=h2, bias=bias, device=device),\n",
    "            activation,\n",
    "            nn.Linear(in_features=h2, out_features=h3, bias=bias, device=device),\n",
    "            activation,\n",
    "            nn.Linear(in_features=h3, out_features=h4, bias=bias, device=device),\n",
    "            activation,\n",
    "            nn.Linear(in_features=h4, out_features=layer_out_features, bias=bias, device=device)\n",
    "            )\n",
    "        self.encoder = nn.TransformerEncoder(\n",
    "            nn.TransformerEncoderLayer(\n",
    "                d_model=node_out_features, nhead=encoder_head,\n",
    "                dim_feedforward=(4 * node_out_features), dropout=dropout,\n",
    "                activation=encoder_activation, bias=bias,\n",
    "                batch_first=True, device=device),\n",
    "            num_encoder)\n",
    "        self.regression = nn.Sequential(\n",
    "            nn.Linear(in_features=node_out_features, out_features=h4, bias=bias, device=device),\n",
    "            activation,\n",
    "            nn.Linear(in_features=h4, out_features=h3, bias=bias, device=device),\n",
    "            activation,\n",
    "            nn.Linear(in_features=h3, out_features=h2, bias=bias, device=device),\n",
    "            activation,\n",
    "            nn.Linear(in_features=h2, out_features=h1, bias=bias, device=device),\n",
    "            activation,\n",
    "            nn.Linear(in_features=h1, out_features=h0, bias=bias, device=device),\n",
    "            activation,\n",
    "            nn.Linear(in_features=h0, out_features=1, bias=bias, device=device),\n",
    "\n",
    "        )\n",
    "\n",
    "    def forward(self, node_x, layer_x):\n",
    "        node_y = self.node_embeding(node_x).unsqueeze(dim=2)\n",
    "        layer_y = self.layer_embeding(layer_x).unsqueeze(dim=1)\n",
    "        y = torch.matmul(node_y, layer_y)\n",
    "        y = self.encoder(y)\n",
    "        y = torch.mean(y, dim=1)\n",
    "        y = self.regression(y)\n",
    "        return y"
   ]
  },
  {
   "cell_type": "code",
   "execution_count": 45,
   "metadata": {
    "colab": {
     "base_uri": "https://localhost:8080/"
    },
    "id": "y4Pv1BJCcg39",
    "outputId": "00aed135-0372-4edf-a86d-7cf8ab8cad39"
   },
   "outputs": [
    {
     "name": "stdout",
     "output_type": "stream",
     "text": [
      "\u001b[91mModel create\u001b[0m\n",
      "\u001b[91mModel on CPU.\u001b[0m\n",
      "Number of Model parameters:  1711.713\n"
     ]
    }
   ],
   "source": [
    "model = None\n",
    "\n",
    "def create_model ():\n",
    "    node_in_features, node_out_features = 10, 256\n",
    "    layer_in_features, layer_out_features = 6, 256\n",
    "    encoder_head, num_encoder = 32, 2\n",
    "    bias, dropout = True, 0.05\n",
    "    device = 'cuda' if torch.cuda.is_available() else 'cpu'\n",
    "    return Multilayer_Full_Model(\n",
    "                    node_in_features=node_in_features, node_out_features=node_out_features,\n",
    "                    layer_in_features=layer_in_features, layer_out_features=layer_out_features,\n",
    "                    encoder_head=encoder_head, num_encoder=num_encoder, encoder_activation='gelu',\n",
    "                    bias=bias, dropout=dropout,\n",
    "                    activation=nn.GELU(), device=device).to(device)\n",
    "    \n",
    "if load_model_status:\n",
    "    model = torch.load(loaded_model, map_location=torch.device(device))    \n",
    "    print(bcolors.OKGREEN + 'Model load' + bcolors.ENDC)\n",
    "else:\n",
    "    model = create_model()\n",
    "    print(bcolors.FAIL + 'Model create' + bcolors.ENDC)\n",
    "\n",
    "model_location = next(model.parameters()).is_cuda\n",
    "if model_location:\n",
    "    print(bcolors.OKGREEN + \"Model on GPU.\" + bcolors.ENDC)\n",
    "else:\n",
    "    print(bcolors.FAIL + \"Model on CPU.\" + bcolors.ENDC)\n",
    "\n",
    "def num_params(model):\n",
    "  nums = sum(p.numel() for p in model.parameters()) / 1000\n",
    "  return nums\n",
    "print(\"Number of Model parameters: \", num_params(model))"
   ]
  },
  {
   "cell_type": "code",
   "execution_count": 51,
   "metadata": {},
   "outputs": [
    {
     "name": "stdout",
     "output_type": "stream",
     "text": [
      "\u001b[92mNode Layer Embedding Model load\u001b[0m\n"
     ]
    }
   ],
   "source": [
    "if not load_model_status:\n",
    "    try:\n",
    "        node_layer_embedding_model = torch.load(loaded_node_layer_embedding_model, map_location=torch.device(device))\n",
    "        print(bcolors.OKGREEN + 'Node Layer Embedding Model load' + bcolors.ENDC)\n",
    "    except:\n",
    "        node_layer_embedding_model_path = select_file_object.select_files(\"text files\", \".pt\", False)\n",
    "        node_layer_embedding_model = torch.load(node_layer_embedding_model_path, map_location=torch.device(device))\n",
    "    \n",
    "    pretrained_node_state_dict = node_layer_embedding_model.node_embeding.state_dict()\n",
    "    pretrained_layer_state_dict = node_layer_embedding_model.layer_embeding.state_dict()\n",
    "    model.node_embeding.load_state_dict(pretrained_node_state_dict)\n",
    "    model.layer_embeding.load_state_dict(pretrained_layer_state_dict)\n",
    "    for param in model.node_embeding.parameters():\n",
    "        param.requires_grad = False\n",
    "    for param in model.layer_embeding.parameters():\n",
    "        param.requires_grad = False\n"
   ]
  },
  {
   "cell_type": "code",
   "execution_count": 52,
   "metadata": {
    "colab": {
     "base_uri": "https://localhost:8080/"
    },
    "id": "F86fvF9Ncg3-",
    "outputId": "7da3a25e-d9ae-4d02-f289-7cff2dddfa54"
   },
   "outputs": [
    {
     "name": "stdout",
     "output_type": "stream",
     "text": [
      "output shape:  torch.Size([16])\n",
      "y shape:       torch.Size([16])\n"
     ]
    }
   ],
   "source": [
    "node_x_batch, layer_x_batch, y_batch = next(iter(train_loader))\n",
    "outputs = model(node_x_batch.to(device), layer_x_batch.to(device)).squeeze(dim=1)\n",
    "print('output shape: ', outputs.shape)\n",
    "print('y shape:      ', y_batch.shape)"
   ]
  },
  {
   "cell_type": "code",
   "execution_count": 53,
   "metadata": {
    "colab": {
     "base_uri": "https://localhost:8080/"
    },
    "id": "GMCtvTBA1nC7",
    "outputId": "ce8d3fbb-6ad6-4c11-d496-11e462af824f"
   },
   "outputs": [
    {
     "name": "stdout",
     "output_type": "stream",
     "text": [
      "tensor(9.5413, grad_fn=<HuberLossBackward0>)\n"
     ]
    }
   ],
   "source": [
    "loss_fn = nn.HuberLoss()\n",
    "loss = loss_fn(outputs.to(device), y_batch.to(device))\n",
    "print(loss)"
   ]
  },
  {
   "cell_type": "code",
   "execution_count": 54,
   "metadata": {
    "id": "IvP7YS3Ucg3_"
   },
   "outputs": [],
   "source": [
    "def train_one_epoch(model, train_loader:DataLoader,\n",
    "                    loss_fn:nn.modules.activation, optimizer:torch.optim,\n",
    "                    epoch:int=None, device:str='cuda'):\n",
    "  model.train()\n",
    "  loss_train = AverageMeter()\n",
    "  with tqdm(train_loader, unit=\" batch\") as tepoch:\n",
    "    for node_inputs, layer_inputs, targets in tepoch:\n",
    "      if epoch is not None:\n",
    "        tepoch.set_description(f\"Train Epoch {epoch + 1}\")\n",
    "      node_inputs = node_inputs.to(device)\n",
    "      layer_inputs = layer_inputs.to(device)\n",
    "      # targets = targets.to(device)\n",
    "\n",
    "      outputs = model(node_inputs, layer_inputs).squeeze(dim=1)\n",
    "      loss = loss_fn(outputs.to(device), targets.to(device))\n",
    "      # print(loss)\n",
    "\n",
    "      loss.backward()\n",
    "      nn.utils.clip_grad_norm_(model.parameters(), 0.5)\n",
    "\n",
    "      optimizer.step()\n",
    "      optimizer.zero_grad()\n",
    "\n",
    "      loss_train.update(loss.item())\n",
    "      tepoch.set_postfix(loss=loss_train.avg)\n",
    "  return model, loss_train.avg"
   ]
  },
  {
   "cell_type": "code",
   "execution_count": 55,
   "metadata": {
    "id": "cGbEZbSccg3_"
   },
   "outputs": [],
   "source": [
    "def validation(model, test_loader:DataLoader,\n",
    "               loss_fn:nn.modules.activation, epoch:int=None, device:str='cuda'):\n",
    "  model.eval()\n",
    "  with tqdm(test_loader, unit=\" batch\") as tepoch:\n",
    "    with torch.no_grad():\n",
    "      loss_valid = AverageMeter()\n",
    "      # acc_valid = Accuracy().to(device)\n",
    "      for node_inputs, layer_inputs, targets in tepoch:\n",
    "        if epoch is not None:\n",
    "          tepoch.set_description(f\"Test  Epoch {epoch + 1}\")\n",
    "        node_inputs = node_inputs.to(device)\n",
    "        layer_inputs = layer_inputs.to(device)\n",
    "        # targets = targets.to(device)\n",
    "\n",
    "        outputs = model(node_inputs, layer_inputs).squeeze(dim=1)\n",
    "        loss = loss_fn(outputs.to(device), targets.to(device))\n",
    "\n",
    "        loss_valid.update(loss.item())\n",
    "        tepoch.set_postfix(loss=loss_valid.avg)\n",
    "        # acc_valid(outputs, targets.int())\n",
    "  return loss_valid.avg"
   ]
  },
  {
   "cell_type": "code",
   "execution_count": 56,
   "metadata": {},
   "outputs": [
    {
     "name": "stdout",
     "output_type": "stream",
     "text": [
      "LR=0.01, WD=0.0001\n"
     ]
    },
    {
     "name": "stderr",
     "output_type": "stream",
     "text": [
      "Train Epoch 1:   0%|          | 5/3227 [00:35<6:26:00,  7.19s/ batch, loss=10.8]\n"
     ]
    },
    {
     "ename": "KeyboardInterrupt",
     "evalue": "",
     "output_type": "error",
     "traceback": [
      "\u001b[1;31m---------------------------------------------------------------------------\u001b[0m",
      "\u001b[1;31mKeyboardInterrupt\u001b[0m                         Traceback (most recent call last)",
      "Cell \u001b[1;32mIn[56], line 14\u001b[0m\n\u001b[0;32m     12\u001b[0m end_loss \u001b[38;5;241m=\u001b[39m torch\u001b[38;5;241m.\u001b[39minf\n\u001b[0;32m     13\u001b[0m \u001b[38;5;28;01mfor\u001b[39;00m epoch \u001b[38;5;129;01min\u001b[39;00m \u001b[38;5;28mrange\u001b[39m(num_epochs):\n\u001b[1;32m---> 14\u001b[0m   model, loss, _ \u001b[38;5;241m=\u001b[39m \u001b[43mtrain_one_epoch\u001b[49m\u001b[43m(\u001b[49m\u001b[43mmodel\u001b[49m\u001b[43m,\u001b[49m\u001b[43m \u001b[49m\u001b[43mtrain_loader\u001b[49m\u001b[43m,\u001b[49m\u001b[43m \u001b[49m\u001b[43mloss_fn\u001b[49m\u001b[43m,\u001b[49m\u001b[43m \u001b[49m\u001b[43moptimizer\u001b[49m\u001b[43m,\u001b[49m\u001b[43m \u001b[49m\u001b[43mepoch\u001b[49m\u001b[43m,\u001b[49m\u001b[43m \u001b[49m\u001b[43mdevice\u001b[49m\u001b[43m)\u001b[49m\n\u001b[0;32m     15\u001b[0m   \u001b[38;5;28;01mif\u001b[39;00m epoch \u001b[38;5;241m==\u001b[39m \u001b[38;5;241m0\u001b[39m:\n\u001b[0;32m     16\u001b[0m     start_loss \u001b[38;5;241m=\u001b[39m loss\n",
      "Cell \u001b[1;32mIn[54], line 18\u001b[0m, in \u001b[0;36mtrain_one_epoch\u001b[1;34m(model, train_loader, loss_fn, optimizer, epoch, device)\u001b[0m\n\u001b[0;32m     15\u001b[0m loss \u001b[38;5;241m=\u001b[39m loss_fn(outputs\u001b[38;5;241m.\u001b[39mto(device), targets\u001b[38;5;241m.\u001b[39mto(device))\n\u001b[0;32m     16\u001b[0m \u001b[38;5;66;03m# print(loss)\u001b[39;00m\n\u001b[1;32m---> 18\u001b[0m \u001b[43mloss\u001b[49m\u001b[38;5;241;43m.\u001b[39;49m\u001b[43mbackward\u001b[49m\u001b[43m(\u001b[49m\u001b[43m)\u001b[49m\n\u001b[0;32m     19\u001b[0m nn\u001b[38;5;241m.\u001b[39mutils\u001b[38;5;241m.\u001b[39mclip_grad_norm_(model\u001b[38;5;241m.\u001b[39mparameters(), \u001b[38;5;241m0.5\u001b[39m)\n\u001b[0;32m     21\u001b[0m optimizer\u001b[38;5;241m.\u001b[39mstep()\n",
      "File \u001b[1;32mc:\\python 3.11.2\\Lib\\site-packages\\torch\\_tensor.py:522\u001b[0m, in \u001b[0;36mTensor.backward\u001b[1;34m(self, gradient, retain_graph, create_graph, inputs)\u001b[0m\n\u001b[0;32m    512\u001b[0m \u001b[38;5;28;01mif\u001b[39;00m has_torch_function_unary(\u001b[38;5;28mself\u001b[39m):\n\u001b[0;32m    513\u001b[0m     \u001b[38;5;28;01mreturn\u001b[39;00m handle_torch_function(\n\u001b[0;32m    514\u001b[0m         Tensor\u001b[38;5;241m.\u001b[39mbackward,\n\u001b[0;32m    515\u001b[0m         (\u001b[38;5;28mself\u001b[39m,),\n\u001b[1;32m   (...)\u001b[0m\n\u001b[0;32m    520\u001b[0m         inputs\u001b[38;5;241m=\u001b[39minputs,\n\u001b[0;32m    521\u001b[0m     )\n\u001b[1;32m--> 522\u001b[0m \u001b[43mtorch\u001b[49m\u001b[38;5;241;43m.\u001b[39;49m\u001b[43mautograd\u001b[49m\u001b[38;5;241;43m.\u001b[39;49m\u001b[43mbackward\u001b[49m\u001b[43m(\u001b[49m\n\u001b[0;32m    523\u001b[0m \u001b[43m    \u001b[49m\u001b[38;5;28;43mself\u001b[39;49m\u001b[43m,\u001b[49m\u001b[43m \u001b[49m\u001b[43mgradient\u001b[49m\u001b[43m,\u001b[49m\u001b[43m \u001b[49m\u001b[43mretain_graph\u001b[49m\u001b[43m,\u001b[49m\u001b[43m \u001b[49m\u001b[43mcreate_graph\u001b[49m\u001b[43m,\u001b[49m\u001b[43m \u001b[49m\u001b[43minputs\u001b[49m\u001b[38;5;241;43m=\u001b[39;49m\u001b[43minputs\u001b[49m\n\u001b[0;32m    524\u001b[0m \u001b[43m\u001b[49m\u001b[43m)\u001b[49m\n",
      "File \u001b[1;32mc:\\python 3.11.2\\Lib\\site-packages\\torch\\autograd\\__init__.py:266\u001b[0m, in \u001b[0;36mbackward\u001b[1;34m(tensors, grad_tensors, retain_graph, create_graph, grad_variables, inputs)\u001b[0m\n\u001b[0;32m    261\u001b[0m     retain_graph \u001b[38;5;241m=\u001b[39m create_graph\n\u001b[0;32m    263\u001b[0m \u001b[38;5;66;03m# The reason we repeat the same comment below is that\u001b[39;00m\n\u001b[0;32m    264\u001b[0m \u001b[38;5;66;03m# some Python versions print out the first line of a multi-line function\u001b[39;00m\n\u001b[0;32m    265\u001b[0m \u001b[38;5;66;03m# calls in the traceback and some print out the last line\u001b[39;00m\n\u001b[1;32m--> 266\u001b[0m \u001b[43mVariable\u001b[49m\u001b[38;5;241;43m.\u001b[39;49m\u001b[43m_execution_engine\u001b[49m\u001b[38;5;241;43m.\u001b[39;49m\u001b[43mrun_backward\u001b[49m\u001b[43m(\u001b[49m\u001b[43m  \u001b[49m\u001b[38;5;66;43;03m# Calls into the C++ engine to run the backward pass\u001b[39;49;00m\n\u001b[0;32m    267\u001b[0m \u001b[43m    \u001b[49m\u001b[43mtensors\u001b[49m\u001b[43m,\u001b[49m\n\u001b[0;32m    268\u001b[0m \u001b[43m    \u001b[49m\u001b[43mgrad_tensors_\u001b[49m\u001b[43m,\u001b[49m\n\u001b[0;32m    269\u001b[0m \u001b[43m    \u001b[49m\u001b[43mretain_graph\u001b[49m\u001b[43m,\u001b[49m\n\u001b[0;32m    270\u001b[0m \u001b[43m    \u001b[49m\u001b[43mcreate_graph\u001b[49m\u001b[43m,\u001b[49m\n\u001b[0;32m    271\u001b[0m \u001b[43m    \u001b[49m\u001b[43minputs\u001b[49m\u001b[43m,\u001b[49m\n\u001b[0;32m    272\u001b[0m \u001b[43m    \u001b[49m\u001b[43mallow_unreachable\u001b[49m\u001b[38;5;241;43m=\u001b[39;49m\u001b[38;5;28;43;01mTrue\u001b[39;49;00m\u001b[43m,\u001b[49m\n\u001b[0;32m    273\u001b[0m \u001b[43m    \u001b[49m\u001b[43maccumulate_grad\u001b[49m\u001b[38;5;241;43m=\u001b[39;49m\u001b[38;5;28;43;01mTrue\u001b[39;49;00m\u001b[43m,\u001b[49m\n\u001b[0;32m    274\u001b[0m \u001b[43m\u001b[49m\u001b[43m)\u001b[49m\n",
      "\u001b[1;31mKeyboardInterrupt\u001b[0m: "
     ]
    }
   ],
   "source": [
    "best_lr = 0.001\n",
    "best_wd = 0.\n",
    "delta = -1\n",
    "if loaded_optimizer == '':\n",
    "  num_epochs = 3\n",
    "  for lr in [0.01, 0.009, 0.007, 0.005, 0.003, 0.001, 0.0009, 0.0007, 0.0005, 0.0003, 0.0001]:\n",
    "    for wd in [1e-4, 1e-5, 0.]:\n",
    "      model = create_model().to(device)\n",
    "      optimizer = optim.Adam(model.parameters(), lr=lr, weight_decay=wd)\n",
    "      print(f'LR={lr}, WD={wd}')\n",
    "      start_loss = torch.inf\n",
    "      end_loss = torch.inf\n",
    "      for epoch in range(num_epochs):\n",
    "        model, loss, _ = train_one_epoch(model, train_loader, loss_fn, optimizer, epoch, device)\n",
    "        if epoch == 0:\n",
    "          start_loss = loss\n",
    "        else:\n",
    "          end_loss = loss\n",
    "        if (start_loss - end_loss) > delta:\n",
    "          delta = start_loss - end_loss\n",
    "          best_lr = lr\n",
    "          best_wd = wd\n",
    "      print()"
   ]
  },
  {
   "cell_type": "code",
   "execution_count": null,
   "metadata": {},
   "outputs": [],
   "source": [
    "lr = best_lr\n",
    "wd = best_wd\n",
    "if loaded_optimizer != '':\n",
    "    optimizer = torch.load(loaded_optimizer, map_location=torch.device(device))\n",
    "    print(bcolors.OKGREEN + 'Optimizer load' + bcolors.ENDC)\n",
    "else:\n",
    "    optimizer = optim.Adam(params=model.parameters(), lr=lr, weight_decay=wd)\n",
    "    print(bcolors.FAIL + 'Optimizer create' + bcolors.ENDC)\n",
    "\n",
    "lr = optimizer.param_groups[0]['lr']\n",
    "wd = optimizer.param_groups[0]['weight_decay']\n",
    "print(\"lr = \" + str(lr), \"\\nwd = \" + str(wd))"
   ]
  },
  {
   "cell_type": "code",
   "execution_count": null,
   "metadata": {
    "colab": {
     "base_uri": "https://localhost:8080/"
    },
    "id": "CpWORcfu1nC8",
    "outputId": "35f1f588-3363-4579-e169-dbb3f843616a"
   },
   "outputs": [
    {
     "name": "stdout",
     "output_type": "stream",
     "text": [
      "0 0\n",
      "inf inf\n"
     ]
    }
   ],
   "source": [
    "loss_train_hist = []\n",
    "loss_valid_hist = []\n",
    "epoch_counter = 0\n",
    "best_loss_train = torch.inf\n",
    "best_loss_valid = torch.inf\n",
    "if load_model_status:\n",
    "    loss_train_hist = np.loadtxt(loaded_model_info['path'] + 'highest_epoch_loss_train_hist.txt').tolist()\n",
    "    best_loss_train = min(loss_train_hist[315:])\n",
    "    loss_valid_hist = np.loadtxt(loaded_model_info['path'] + 'highest_epoch_loss_valid_hist.txt').tolist()\n",
    "    best_loss_valid = min(loss_valid_hist[315:])\n",
    "    epoch_counter += len(loss_valid_hist)\n",
    "\n",
    "print(len(loss_train_hist), len(loss_valid_hist))\n",
    "print(best_loss_train, best_loss_valid)"
   ]
  },
  {
   "cell_type": "code",
   "execution_count": null,
   "metadata": {
    "colab": {
     "base_uri": "https://localhost:8080/"
    },
    "id": "yf-UeYtl09HJ",
    "outputId": "c1c56e16-92ef-4399-b526-7283bb4582b3"
   },
   "outputs": [
    {
     "name": "stdout",
     "output_type": "stream",
     "text": [
      "c:/Users/User1/Desktop/Ali/Codes/Multilayer_Full_Model_Local/\n"
     ]
    }
   ],
   "source": [
    "current_date = datetime.now()\n",
    "model_date = (str(current_date.year) + \"_\" + str(current_date.month) + \"_\" +\n",
    "               str(current_date.day) + \"_\" + str(current_date.hour) + \"_\" +\n",
    "               str(current_date.minute))\n",
    "if load_model_status:\n",
    "    source_code_path = loaded_model_info['path'][:-1][:loaded_model_info['path'][:].rfind(\"/\")]\n",
    "else:\n",
    "    source_code_path = select_file_object.make_dir(str(os.getcwd()), '/Multilayer_Full_Model_Local')\n",
    "source_code_path = source_code_path.replace(\"\\\\\", \"/\")\n",
    "print(source_code_path)\n"
   ]
  },
  {
   "cell_type": "code",
   "execution_count": null,
   "metadata": {
    "id": "clyBZPJ_A5gX"
   },
   "outputs": [],
   "source": [
    "num_epochs = 100\n",
    "\n",
    "loaded_epoch_counter = len(loss_valid_hist)\n",
    "model_info =  (\"model lr=\" + str(lr) + \" wd=\" + str(wd))\n",
    "optimizer_info =  (\"Adam lr=\" + str(lr) + \" wd=\" + str(wd))\n",
    "source_code_path = select_file_object.make_dir(source_code_path, str('/' + str(model_date)) + ' ' + model_info)\n",
    "source_code_path = source_code_path.replace(\"\\\\\", \"/\")\n",
    "\n",
    "saved_mode = None\n",
    "saved_mode_train = None"
   ]
  },
  {
   "cell_type": "code",
   "execution_count": null,
   "metadata": {
    "colab": {
     "base_uri": "https://localhost:8080/",
     "height": 783
    },
    "id": "qE0dscQPcg3_",
    "outputId": "ea07fd39-d2af-45c3-9025-0cca7337913e"
   },
   "outputs": [
    {
     "name": "stderr",
     "output_type": "stream",
     "text": [
      "Train Epoch 1: 100%|██████████| 11488/11488 [1:07:09<00:00,  2.85 batch/s, loss=89.9]\n",
      "Test  Epoch 1: 100%|██████████| 2872/2872 [02:59<00:00, 16.02 batch/s, loss=87.5]\n"
     ]
    },
    {
     "name": "stdout",
     "output_type": "stream",
     "text": [
      "\u001b[92mTrain: Loss = 89.883\u001b[0m\n",
      "\u001b[92mValid: Loss = 87.462\u001b[0m\n",
      "\n"
     ]
    },
    {
     "name": "stderr",
     "output_type": "stream",
     "text": [
      "Train Epoch 2: 100%|██████████| 11488/11488 [1:11:32<00:00,  2.68 batch/s, loss=89.9]\n",
      "Test  Epoch 2: 100%|██████████| 2872/2872 [04:01<00:00, 11.89 batch/s, loss=87.5]\n"
     ]
    },
    {
     "name": "stdout",
     "output_type": "stream",
     "text": [
      "\u001b[92mTrain: Loss = 89.881\u001b[0m\n",
      "\u001b[92mValid: Loss = 87.462\u001b[0m\n",
      "\n"
     ]
    },
    {
     "name": "stderr",
     "output_type": "stream",
     "text": [
      "Train Epoch 3:  84%|████████▍ | 9673/11488 [58:12<09:06,  3.32 batch/s, loss=90]    "
     ]
    }
   ],
   "source": [
    "loss_fn = nn.HuberLoss()\n",
    "\n",
    "for epoch in range(num_epochs):\n",
    "  # Train\n",
    "  model, loss_train = train_one_epoch(model, train_loader,\n",
    "                                       loss_fn, optimizer, epoch, device)\n",
    "  # Validation\n",
    "  loss_valid = validation(model, test_loader, loss_fn, epoch, device)\n",
    "\n",
    "  loss_train_hist.append(loss_train)\n",
    "  loss_valid_hist.append(loss_valid)\n",
    "  epochs_info = \" epochs=\" + str(epoch + 1 + loaded_epoch_counter) + \" \"\n",
    "\n",
    "  if loss_train < best_loss_train:\n",
    "    if not(saved_mode_train is None):\n",
    "      os.remove(saved_mode_train)\n",
    "    saved_mode_train = (str(source_code_path + \"best_loss_train \" + model_info + epochs_info +\n",
    "                     ' loss_valid=' + str(f'{loss_valid:.5}') +\n",
    "                     ' loss_train=' + str(f'{loss_train:.5}') +\".pt\"))\n",
    "    torch.save(model, saved_mode_train)\n",
    "    saved_opimizer_train = (str(source_code_path + \"best_loss_train \" + optimizer_info + epochs_info +\n",
    "                     ' loss_valid=' + str(f'{loss_valid:.5}') +\n",
    "                     ' loss_train=' + str(f'{loss_train:.5}') +\".optim\"))\n",
    "    torch.save(optimizer, saved_opimizer_train)\n",
    "    np.savetxt((source_code_path + 'loss_train_hist.txt'), loss_train_hist)\n",
    "    np.savetxt((source_code_path + 'loss_valid_hist.txt'), loss_valid_hist)\n",
    "    best_loss_train = loss_train\n",
    "    print(bcolors.OKGREEN + f'Train: Loss = {loss_train:.5}' + bcolors.ENDC)\n",
    "  else:\n",
    "    print(bcolors.FAIL + f'Train: Loss = {loss_train:.5}' + bcolors.ENDC)\n",
    "\n",
    "  if loss_valid < best_loss_valid:\n",
    "    if not(saved_mode is None):\n",
    "      os.remove(saved_mode)\n",
    "    saved_mode = (str(source_code_path + 'best_loss_valid ' + model_info + epochs_info +\n",
    "                     ' loss_valid=' + str(f'{loss_valid:.5}') +\n",
    "                     ' loss_train=' + str(f'{loss_train:.5}') +\".pt\"))\n",
    "    torch.save(model, saved_mode)\n",
    "    saved_opimizer_train = (str(source_code_path + \"best_loss_valid \" + optimizer_info + epochs_info +\n",
    "                     ' loss_valid=' + str(f'{loss_valid:.5}') +\n",
    "                     ' loss_train=' + str(f'{loss_train:.5}') +\".optim\"))\n",
    "    torch.save(optimizer, saved_opimizer_train)\n",
    "    np.savetxt((source_code_path + 'loss_train_hist.txt'), loss_train_hist)\n",
    "    np.savetxt((source_code_path + 'loss_valid_hist.txt'), loss_valid_hist)\n",
    "    best_loss_valid = loss_valid\n",
    "    print(bcolors.OKGREEN + f'Valid: Loss = {loss_valid:.5}' + bcolors.ENDC)\n",
    "  else:\n",
    "    print(bcolors.FAIL + f'Valid: Loss = {loss_valid:.5}' + bcolors.ENDC)\n",
    "\n",
    "  print()\n",
    "  saved_mode_train = (str(source_code_path + \"highest_epoch_train \" + model_info + epochs_info +\n",
    "                     ' loss_valid=' + str(f'{loss_valid:.5}') +\n",
    "                     ' loss_train=' + str(f'{loss_train:.5}') +\".pt\"))\n",
    "  torch.save(model, saved_mode_train)\n",
    "  saved_opimizer_train = (str(source_code_path + \"highest_epoch_train \" + optimizer_info + epochs_info +\n",
    "                     ' loss_valid=' + str(f'{loss_valid:.5}') +\n",
    "                     ' loss_train=' + str(f'{loss_train:.5}') + \".optim\"))\n",
    "  torch.save(optimizer, saved_opimizer_train)\n",
    "  np.savetxt((source_code_path + 'highest_epoch_loss_train_hist.txt'), loss_train_hist)\n",
    "  np.savetxt((source_code_path + 'highest_epoch_loss_valid_hist.txt'), loss_valid_hist)\n",
    "  epoch_counter += 1\n"
   ]
  },
  {
   "cell_type": "code",
   "execution_count": null,
   "metadata": {
    "colab": {
     "base_uri": "https://localhost:8080/",
     "height": 453
    },
    "id": "TnvCrQGocg4A",
    "outputId": "22f7acf3-cc05-4df8-f0c9-74c6a95b50cb"
   },
   "outputs": [
    {
     "data": {
      "image/png": "[encoded data removed]",
      "text/plain": [
       "<Figure size 640x480 with 1 Axes>"
      ]
     },
     "metadata": {},
     "output_type": "display_data"
    }
   ],
   "source": [
    "from matplotlib.ticker import MultipleLocator\n",
    "plt.plot(range(epoch_counter), loss_train_hist, \"r-\", label=\"Train\")\n",
    "plt.plot(range(epoch_counter), loss_valid_hist, \"b-\", label=\"Validation\")\n",
    "\n",
    "plt.xlabel(\"Epoch: \" + str(epoch_counter))\n",
    "plt.ylabel(\"loss: \"\n",
    "           + \"T=\" + str(f\"{loss_train_hist[-1]:.4}\")\n",
    "           + \" & \"\n",
    "           + \"V=\" + str(f\"{loss_valid_hist[-1]:.4}\")\n",
    ")\n",
    "x_spacing = 25\n",
    "y_spacing = 5\n",
    "x_minorLocator = MultipleLocator(x_spacing)\n",
    "y_minorLocator = MultipleLocator(y_spacing)\n",
    "plt.grid(visible=True, alpha=0.8, linewidth=1)\n",
    "plt.legend()\n",
    "ax = plt.gca()\n",
    "ax.yaxis.label.set_fontsize('large')\n",
    "ax.xaxis.label.set_fontsize('large')\n",
    "ax.yaxis.set_minor_locator(y_minorLocator)\n",
    "ax.xaxis.set_minor_locator(x_minorLocator)\n",
    "ax.grid(which = 'minor')\n",
    "plt.savefig(\n",
    "    path\n",
    "    + \"epoch=\" + str(len(loss_valid_hist))\n",
    "    + \" loss_valid=\" + str(f\"{loss_valid_hist[-1]:.5}\")\n",
    "    + \" loss_train=\" + str(f\"{loss_train_hist[-1]:.5}\")\n",
    "    + \".png\"\n",
    ")"
   ]
  },
  {
   "cell_type": "code",
   "execution_count": null,
   "metadata": {
    "id": "AJZHXM641nC9"
   },
   "outputs": [],
   "source": [
    "# a = torch.FloatTensor([[1., 2., 3., 4.],\n",
    "#                       [5., 6., 7., 8.],\n",
    "#                       [9., 10., 11., 12.]])\n",
    "# b = torch.FloatTensor([[1, 2, 3, 4],\n",
    "#                       [5, 6, 7, 8],\n",
    "#                       [9, 10, 11, 12]])\n",
    "# print(a.shape)\n",
    "# print(torch.mean(a, dim=1))\n",
    "# print(torch.mean(a, dim=1).shape)\n",
    "# print()\n",
    "# print(b.shape)\n"
   ]
  },
  {
   "cell_type": "code",
   "execution_count": null,
   "metadata": {
    "id": "GnhbKOdJ1nC9"
   },
   "outputs": [],
   "source": [
    "# a = torch.FloatTensor([[1., 2., 3., 4.],\n",
    "#                       [5., 6., 7., 8.],\n",
    "#                       [9., 10., 11., 12.]]).unsqueeze(dim=2)\n",
    "# b = torch.FloatTensor([[1, 2, 3, 4],\n",
    "#                       [5, 6, 7, 8],\n",
    "#                       [9, 10, 11, 12]]).unsqueeze(dim=1)\n",
    "# print(a.shape)\n",
    "# print(b.shape)\n",
    "# ab = torch.matmul(a, b)\n",
    "# print()\n",
    "# print (ab)\n",
    "# print()\n",
    "# print(ab.shape)"
   ]
  },
  {
   "cell_type": "code",
   "execution_count": null,
   "metadata": {
    "id": "bknezgq91nC-"
   },
   "outputs": [],
   "source": [
    "# a = torch.FloatTensor([1,2,3,4]).unsqueeze(dim=1)\n",
    "# b = torch.FloatTensor([1,2,3,4]).unsqueeze(dim=0)\n",
    "# print(a)\n",
    "# print(b)\n",
    "# ab = torch.matmul(a, b)\n",
    "# print()\n",
    "# print (ab)\n",
    "# print()\n",
    "# print(ab.shape)"
   ]
  }
 ],
 "metadata": {
  "accelerator": "GPU",
  "colab": {
   "gpuType": "T4",
   "machine_shape": "hm",
   "provenance": []
  },
  "kernelspec": {
   "display_name": "Python 3",
   "name": "python3"
  },
  "language_info": {
   "codemirror_mode": {
    "name": "ipython",
    "version": 3
   },
   "file_extension": ".py",
   "mimetype": "text/x-python",
   "name": "python",
   "nbconvert_exporter": "python",
   "pygments_lexer": "ipython3",
   "version": "3.11.2"
  }
 },
 "nbformat": 4,
 "nbformat_minor": 0
}
