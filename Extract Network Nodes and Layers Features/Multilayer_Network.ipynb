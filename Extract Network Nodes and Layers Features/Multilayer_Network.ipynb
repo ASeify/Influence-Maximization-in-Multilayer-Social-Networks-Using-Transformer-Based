{
 "cells": [
  {
   "cell_type": "code",
   "execution_count": 25,
   "metadata": {},
   "outputs": [],
   "source": [
    "import networkx as nx\n",
    "import random\n",
    "from easygui import *\n",
    "import math\n",
    "import time\n",
    "import sys\n",
    "import os\n",
    "from termcolor import colored"
   ]
  },
  {
   "cell_type": "code",
   "execution_count": 26,
   "metadata": {},
   "outputs": [],
   "source": [
    "CLASSES_PATH = os.path.dirname(os.path.abspath('../Classes/'))\n",
    "if not (CLASSES_PATH in sys.path):\n",
    "    sys.path.append(CLASSES_PATH)\n",
    "from Classes.Files_Handler_Class import Files_Handler\n",
    "from Classes.K_Shell_Calculate_Class import K_Shell_Calculate\n",
    "from Classes.Resd_Network_Infos_Class import Resd_Network_Infos\n",
    "from Classes.SIR_Diffusion_Model_Class import SIR_Diffusion_Model\n",
    "from Classes.Get_Past_Results_Class import Get_Past_Results\n",
    "from Classes.Network_Infos_Writer_Class import Network_Infos_Writer\n",
    "from Classes.Layers_Ranking_Class import Layers_Ranking\n",
    "from Classes.Network_Node_Centrality_Class import Network_Node_Centrality\n",
    "from Classes.Bcolors_Class import Bcolors as bcolors\n",
    "from Classes.Random_Nodes_Selection_Class import Random_Nodes_Selection"
   ]
  },
  {
   "cell_type": "code",
   "execution_count": 27,
   "metadata": {},
   "outputs": [],
   "source": [
    "color_list = [\"light_red\", \"light_green\", \"light_yellow\",\n",
    "               \"light_blue\",\"light_magenta\", \"light_cyan\",\n",
    "               \"blue\", \"red\", \"white\", \"green\", \"yellow\",\n",
    "                 \"magenta\", \"cyan\", ]"
   ]
  },
  {
   "cell_type": "code",
   "execution_count": 28,
   "metadata": {},
   "outputs": [
    {
     "data": {
      "text/plain": [
       "{'path': 'D:/Masters thesis/Networks Dataset/Multilayer Dataset/00 - General Forms/co author/T_F/',\n",
       " 'name': 'T_F',\n",
       " 'type': '.edgeslist'}"
      ]
     },
     "execution_count": 28,
     "metadata": {},
     "output_type": "execute_result"
    }
   ],
   "source": [
    "files_handler_obj = Files_Handler()\n",
    "file_path = files_handler_obj.select_files(\"text files\", \".edgeslist .edgelist .edges .mtx .txt\")\n",
    "if file_path is None or file_path == '':\n",
    "    sys.exit(\"File Selection Canceled !\")\n",
    "file_info = files_handler_obj.get_file_path_info(file_path)\n",
    "network_name = file_info['name']\n",
    "network_type = file_info['type']\n",
    "network_path = file_info['path']\n",
    "if network_name == \"\":\n",
    "    sys.exit(\"Dont Network Selection!\")\n",
    "file_info\n"
   ]
  },
  {
   "cell_type": "code",
   "execution_count": 29,
   "metadata": {},
   "outputs": [],
   "source": [
    "resd_network_infos_object = Resd_Network_Infos()\n",
    "(\n",
    "    network_layers_info,\n",
    "    network_layers_nodes,\n",
    "    entra_layer_edges,\n",
    "    entra_layer_edges_features,\n",
    "    inter_layer_edge,\n",
    ") = Resd_Network_Infos.read_nodeFrom_layerFrom_nodeTo_layerTo(\n",
    "    network_path, network_name, network_type\n",
    ")\n"
   ]
  },
  {
   "cell_type": "code",
   "execution_count": null,
   "metadata": {},
   "outputs": [
    {
     "name": "stdout",
     "output_type": "stream",
     "text": [
      "T_F \n",
      "\n",
      "\u001b[92mLayer 1: 44832 Node And 1161114 Edge\u001b[0m\n",
      "\u001b[93mLayer 2: 48089 Node And 11165818 Edge\u001b[0m\n",
      "\n",
      "network entier nodes : \u001b[33m48089\u001b[0m\n"
     ]
    }
   ],
   "source": [
    "print(file_info['name'], '\\n')\n",
    "layers_id = []\n",
    "network_layers_count = len(network_layers_info)\n",
    "graphs_of_network = [None] * network_layers_count\n",
    "network_entier_edges = \"\"\n",
    "layers_nodes_infect_scale = []\n",
    "\n",
    "i = 0\n",
    "j = 0\n",
    "while i < network_layers_count:\n",
    "    graphs_of_network[i] = nx.Graph()\n",
    "    network_layers_nodes[i] = list(set(network_layers_nodes[i]))\n",
    "    layers_nodes_infect_scale.append({})\n",
    "    if len(network_layers_nodes[i]) > 0:\n",
    "        # graphs_of_network[i].add_nodes_from(network_layers_nodes[i])\n",
    "        graphs_of_network[i].add_edges_from(entra_layer_edges[i])\n",
    "\n",
    "        nx.set_node_attributes(graphs_of_network[i], None, \"degree\")\n",
    "        nx.set_node_attributes(graphs_of_network[i], None, \"k_shell\")\n",
    "        nx.set_node_attributes(graphs_of_network[i], None, \"k_shell_itr\")\n",
    "        nx.set_node_attributes(graphs_of_network[i], None, \"nip\")\n",
    "        nx.set_node_attributes(graphs_of_network[i], None, \"sombor_index\")\n",
    "        nx.set_node_attributes(graphs_of_network[i], None, \"ego_density\")\n",
    "        nx.set_node_attributes(graphs_of_network[i], None, \"ego_degree\")\n",
    "        nx.set_node_attributes(graphs_of_network[i], None, \"ego_k_shell\")\n",
    "        nx.set_node_attributes(graphs_of_network[i], None, \"ego_degree_mean\")\n",
    "        nx.set_node_attributes(graphs_of_network[i], None, \"kss\")\n",
    "        nx.set_node_attributes(graphs_of_network[i], 1, \"vote_power\")\n",
    "        nx.set_node_attributes(graphs_of_network[i], None, \"clustering\")\n",
    "        nx.set_node_attributes(graphs_of_network[i], None, \"SIR\")\n",
    "        \n",
    "\n",
    "        graphs_of_network[i].graph[\"id\"] = i\n",
    "        graphs_of_network[i].graph[\"layer_density\"] = nx.density(graphs_of_network[i])\n",
    "        graphs_of_network[i].graph[\"layer_degree_histogram\"] = None\n",
    "        graphs_of_network[i].graph[\"layer_edge_weight\"] = None\n",
    "        graphs_of_network[i].graph[\"layer_sombor_index\"] = None\n",
    "        graphs_of_network[i].graph[\"layer_nodes_weight\"] = None\n",
    "        graphs_of_network[i].graph[\"layer_k_shell_weight\"] = None\n",
    "\n",
    "        K_Shell_Calculate_Object = K_Shell_Calculate(graphs_of_network[i])\n",
    "        graphs_of_network[i] = K_Shell_Calculate_Object.get_k_shell_info()\n",
    "        del K_Shell_Calculate_Object\n",
    "        degrees = dict(graphs_of_network[i].degree())\n",
    "        nx.set_node_attributes(graphs_of_network[i], degrees, \"degree\")\n",
    "        layers_id.append(str(i))\n",
    "        print(colored(\"Layer \"  + str(i) + \": \" + str(graphs_of_network[i].number_of_nodes()) + \" Node And \" +\n",
    "                       str(graphs_of_network[i].number_of_edges()) + \" Edge\", color_list[j]))\n",
    "        # print(colored(graphs_of_network[i].graph['k_shell_info'], color_list[i]))\n",
    "    i += 1\n",
    "    j += 1\n",
    "    if j >= len(color_list):\n",
    "        j = 0\n",
    "\n",
    "network_entier_nodes_list = []\n",
    "for item in network_layers_nodes:\n",
    "    network_entier_nodes_list += item\n",
    "\n",
    "network_entier_nodes_list = list(set(network_entier_nodes_list))\n",
    "network_entier_nodes_count = len(network_entier_nodes_list)\n",
    "print()\n",
    "print(\"network entier nodes : \" + colored(str(network_entier_nodes_count), \"yellow\"))"
   ]
  },
  {
   "cell_type": "code",
   "execution_count": 31,
   "metadata": {},
   "outputs": [],
   "source": [
    "del network_layers_nodes, entra_layer_edges\n",
    "del entra_layer_edges_features"
   ]
  },
  {
   "cell_type": "code",
   "execution_count": 32,
   "metadata": {},
   "outputs": [],
   "source": [
    "random_nodes_selection_obj = Random_Nodes_Selection()\n",
    "network_infos_writer_object = Network_Infos_Writer(network_path, network_name)\n",
    "SIR_diffusion_model_object = SIR_Diffusion_Model()"
   ]
  },
  {
   "cell_type": "code",
   "execution_count": 33,
   "metadata": {},
   "outputs": [
    {
     "name": "stdout",
     "output_type": "stream",
     "text": [
      "T_F \n",
      " 9618\n"
     ]
    }
   ],
   "source": [
    "node_fraction = 0.1\n",
    "node_fraction = random_nodes_selection_obj.get_node_fraction(network_entier_nodes_count)\n",
    "print(network_name, '\\n', math.ceil(network_entier_nodes_count * node_fraction))"
   ]
  },
  {
   "cell_type": "code",
   "execution_count": 34,
   "metadata": {},
   "outputs": [],
   "source": [
    "random_selected_nodes = []\n",
    "population = []"
   ]
  },
  {
   "cell_type": "code",
   "execution_count": 35,
   "metadata": {},
   "outputs": [
    {
     "name": "stdout",
     "output_type": "stream",
     "text": [
      "T_F \n",
      "\n",
      "nodes result status from graph file: \u001b[95m\u001b[92mTrue (202)\u001b[0m \n",
      "\n",
      "nodes result status from temp SIR  file: \u001b[95m\u001b[92mTrue (0)\u001b[0m \n",
      "\n",
      "calced sir nodes count: \u001b[92m202\u001b[0m\n"
     ]
    }
   ],
   "source": [
    "print(network_name, '\\n')\n",
    "f_p = '{:12.5f}' # float padding\n",
    "i_p = '{:12.0f}' # float padding\n",
    "\n",
    "beta = 0.01\n",
    "landa = 0.7\n",
    "epoch = 1000\n",
    "\n",
    "calced_sir_nodes_count = 0\n",
    "get_past_results_obj = Get_Past_Results(network_path, network_name)\n",
    "nodes_result_status, nodes_result = get_past_results_obj.get_past_node_att_results(graphs_of_network)\n",
    "calced_sir_nodes_count = len(nodes_result.keys())\n",
    "random_selected_nodes.extend(list(nodes_result.keys()))\n",
    "random_selected_nodes = list(set(random_selected_nodes))\n",
    "random_selected_nodes_count = len(random_selected_nodes)\n",
    "if nodes_result_status:\n",
    "    print('nodes result status from graph file:', bcolors.HEADER + bcolors.OKGREEN + str(nodes_result_status) + f' ({random_selected_nodes_count})' + bcolors.ENDC, '\\n')\n",
    "else:\n",
    "    print('nodes result status from graph file:', bcolors.HEADER + bcolors.FAIL + str(nodes_result_status) + bcolors.ENDC, '\\n')\n",
    "\n",
    "# if nodes_result_status == False:\n",
    "nodes_result = get_past_results_obj.get_past_SIR_results_from_temp_file(beta, landa, epoch)\n",
    "calced_sir_nodes_count = len(nodes_result.keys())\n",
    "random_selected_nodes.extend(list(nodes_result.keys()))\n",
    "random_selected_nodes = list(set(random_selected_nodes))\n",
    "if len(nodes_result) > 0 :\n",
    "    nodes_result_status = True\n",
    "    print('nodes result status from temp SIR  file:', bcolors.HEADER + bcolors.OKGREEN + str(nodes_result_status) + f' ({len(random_selected_nodes) - random_selected_nodes_count})' + bcolors.ENDC, '\\n')\n",
    "else:\n",
    "    print('nodes result status from temp SIR  file:', bcolors.HEADER + bcolors.FAIL + str(False) + bcolors.ENDC, '\\n')\n",
    "random_selected_nodes_count = len(random_selected_nodes)\n",
    "if calced_sir_nodes_count > 0:\n",
    "    for k, v in nodes_result.items():\n",
    "        for layer, sir_val in v.items():\n",
    "            graphs_of_network[layer].nodes[k][\"SIR\"] = sir_val\n",
    "\n",
    "    for k, v in nodes_result.items():\n",
    "        for i, graph in enumerate(graphs_of_network):\n",
    "            if graph.number_of_nodes() > 0 and k in graph:\n",
    "                sir_val = graph.nodes[k][\"SIR\"]\n",
    "                if sir_val is None:\n",
    "                    graph.nodes[k][\"SIR\"] = SIR_diffusion_model_object.biased_SIR_monoplex_with_seed_set_model(\n",
    "                        network=graph, seed=[k], beta=beta, landa=landa, iteration=epoch, bias=5)    \n",
    "                    network_infos_writer_object.write_node_SIR(beta=beta, landa=landa,\n",
    "                                                            epoch=epoch,layer=j,\n",
    "                                                              node=k, sir_value=graph.nodes[k][\"SIR\"]) \n",
    "\n",
    "message = (f\"calced sir nodes count: {bcolors.OKGREEN + str(len(random_selected_nodes)) + bcolors.ENDC}\")\n",
    "print(message)"
   ]
  },
  {
   "cell_type": "code",
   "execution_count": 36,
   "metadata": {},
   "outputs": [],
   "source": [
    "for node in random_selected_nodes:\n",
    "    for graph in graphs_of_network:\n",
    "        if node in graph:\n",
    "            network_infos_writer_object.write_node_SIR(beta=beta, landa=landa,\n",
    "                                                            epoch=epoch,layer=graph.graph['id'],\n",
    "                                                              node=node, sir_value=graph.nodes[node][\"SIR\"]) "
   ]
  },
  {
   "cell_type": "code",
   "execution_count": 37,
   "metadata": {},
   "outputs": [
    {
     "name": "stdout",
     "output_type": "stream",
     "text": [
      "degree mean: 257.3167876229491\n",
      "\u001b[93m\n",
      "Select nodes with bias higher than average degree\n",
      "\u001b[0m\n"
     ]
    }
   ],
   "source": [
    "degree_mean = 0\n",
    "for node in network_entier_nodes_list:\n",
    "    node_degree_sum = 0\n",
    "    layers_counter = 0\n",
    "    for graph in graphs_of_network:\n",
    "        if graph.number_of_nodes() > 0 and node in graph:\n",
    "            node_degree_sum += graph.degree[node]\n",
    "            layers_counter += 1\n",
    "    degree = math.ceil(node_degree_sum / layers_counter)\n",
    "    degree_mean += degree\n",
    "    if degree >= len(population):\n",
    "        dist = degree - len(population)\n",
    "        i = 0\n",
    "        while i <= dist:\n",
    "            population.append([])\n",
    "            i += 1\n",
    "    population[degree].append(node)\n",
    "degree_mean = degree_mean / graph.number_of_nodes()\n",
    "print(\"degree mean:\", degree_mean)\n",
    "text = \"calced sir nodes count: \" + str(len(random_selected_nodes)) + \"\\n\\nSelect your selection strategy\"\n",
    "title = network_name\n",
    "choices = [\"Select nodes with bias higher than average degree\", \n",
    "        \"Only select nodes with higher and neighborhood average degree\",\n",
    "        \"Only select nodes with neighborhood average degree\",\n",
    "            \"Only select nodes with high degree\"]\n",
    "with files_handler_obj.tk_windows_timer(timeout=15):\n",
    "    output = choicebox(text, title, choices)\n",
    "if not(output in choices):\n",
    "    output = choices[0]\n",
    "print(bcolors.WARNING + '\\n' + output + '\\n' + bcolors.ENDC)\n",
    "temp_random_selected_nodes = random_nodes_selection_obj.get_random_nodes_selection(output, choices, population, degree_mean, node_fraction)\n",
    "temp_random_selected_nodes.extend(random_selected_nodes)\n",
    "temp_random_selected_nodes = list(set(temp_random_selected_nodes))\n",
    "temp_random_selected_nodes_count = len(temp_random_selected_nodes)\n",
    "# min_degree_arr = []\n",
    "# max_degree_arr = []\n",
    "# for graph in graphs_of_network:\n",
    "#     if temp_random_selected_nodes[-1] in graph:\n",
    "#         min_degree_arr.append(graph.degree[temp_random_selected_nodes[-1]])\n",
    "#     if temp_random_selected_nodes[0] in graph:\n",
    "#         max_degree_arr.append(graph.degree[temp_random_selected_nodes[0]])\n",
    "# print(\"min dgree: \",min_degree_arr , \"\\nmax dgree: \", max_degree_arr)"
   ]
  },
  {
   "cell_type": "code",
   "execution_count": 38,
   "metadata": {},
   "outputs": [
    {
     "name": "stdout",
     "output_type": "stream",
     "text": [
      "Selected Nodes Count: 13533\n",
      "\n",
      "calced sir nodes count: \u001b[92m202\u001b[0m\n",
      "\n",
      "new nodes: \u001b[91m13331\u001b[0m\n"
     ]
    }
   ],
   "source": [
    "message = (f\"Selected Nodes Count: {temp_random_selected_nodes_count}\\n\\ncalced sir nodes count: {bcolors.OKGREEN + str(random_selected_nodes_count) + bcolors.ENDC}\\n\\nnew nodes: {bcolors.FAIL + str(temp_random_selected_nodes_count - random_selected_nodes_count) + bcolors.ENDC}\")\n",
    "print(message)\n",
    "message = (f\"Selected Nodes Count: {temp_random_selected_nodes_count}\\n\\ncalced sir nodes count: {random_selected_nodes_count}\\n\\nnew nodes: {temp_random_selected_nodes_count - random_selected_nodes_count}\")\n",
    "del population"
   ]
  },
  {
   "cell_type": "code",
   "execution_count": 39,
   "metadata": {},
   "outputs": [
    {
     "name": "stdout",
     "output_type": "stream",
     "text": [
      "T_F \n",
      " Layer count:  2\n",
      "network entier nodes count: 48089\n",
      "\u001b[93m\t\t\t    ______________\u001b[0m\u001b[92m Finished \u001b[0m\u001b[93m______________\u001b[0m\n"
     ]
    }
   ],
   "source": [
    "print(network_name, '\\n', \"Layer count: \", len(graphs_of_network)-1)\n",
    "print(\"network entier nodes count:\", network_entier_nodes_count)\n",
    "new_sir_calc = False\n",
    "with files_handler_obj.tk_windows_timer(timeout=15):\n",
    "    try:\n",
    "        new_sir_calc = ynbox(message, f'{network_name} New nodes SIR calc')\n",
    "    except:\n",
    "        new_sir_calc = False\n",
    "\n",
    "if new_sir_calc:\n",
    "    random_selected_nodes.extend(temp_random_selected_nodes)\n",
    "    random_selected_nodes = list(set(random_selected_nodes))\n",
    "    print(\"\\t\\t\\tSelected Nodes Count: \", str(temp_random_selected_nodes_count - random_selected_nodes_count),\n",
    "          \" + \", calced_sir_nodes_count, \" = \", len(random_selected_nodes))\n",
    "    print()\n",
    "    print('\\tCounter\\t\\tNode\\t\\tLayer\\t\\tdegree\\t\\tSIR\\t\\tCompution Time(s)')\n",
    "    c = 0\n",
    "    for i, node in enumerate(random_selected_nodes):\n",
    "        for j, graph in enumerate(graphs_of_network):\n",
    "            if node in graph:\n",
    "                node_infect_scale = graph.nodes[node][\"SIR\"]\n",
    "                start_time = time.time()\n",
    "                if node_infect_scale is None:\n",
    "                    node_infect_scale = SIR_diffusion_model_object.biased_SIR_monoplex_with_seed_set_model(\n",
    "                        network=graph, seed=[node], beta=beta, landa=landa, iteration=epoch, bias=5)\n",
    "                graph.nodes[node][\"SIR\"] = node_infect_scale\n",
    "                finish_time = time.time()\n",
    "                network_infos_writer_object.write_node_SIR(beta=beta, landa=landa,\n",
    "                                                            epoch=epoch,layer=j,\n",
    "                                                              node=node, sir_value=node_infect_scale)\n",
    "                print(colored((i_p.format(i + 1)+ '\\t\\t' +\n",
    "                               str(node)+ ' \\t' +\n",
    "                               i_p.format(j) + '\\t\\t' +\n",
    "                               str(graph.degree[node])+ '\\t\\t ' +\n",
    "                               str(f_p.format(node_infect_scale)) + '\\t' +\n",
    "                               str(f_p.format(finish_time - start_time))),color_list[c]))\n",
    "                c += 1\n",
    "                if c >= len(color_list):\n",
    "                    c = 0\n",
    "                layers_nodes_infect_scale[j][node] = node_infect_scale\n",
    "            else:\n",
    "                layers_nodes_infect_scale[j][node] = 0\n",
    "        print()\n",
    "else:\n",
    "    # random_selected_nodes = list(set(list(nodes_result.keys())))\n",
    "    for k, v in nodes_result.items():\n",
    "        for layer, sir_val in v.items():\n",
    "            graphs_of_network[layer].nodes[k][\"SIR\"] = sir_val\n",
    "            # network_infos_writer_object.write_node_SIR(beta=beta, landa=landa,\n",
    "            #                                     epoch=epoch, layer=layer,\n",
    "            #                                      node=k, sir_value=sir_val)\n",
    "\n",
    "print(colored(\"\\t\\t\\t    ______________\", 'light_yellow') + colored(\" Finished \", 'light_green') + colored(\"______________\", 'light_yellow'))\n",
    "# del SIR_diffusion_model_object"
   ]
  },
  {
   "cell_type": "code",
   "execution_count": 40,
   "metadata": {},
   "outputs": [],
   "source": [
    "import numpy as np\n",
    "random_selected_nodes_copy = random_selected_nodes.copy()\n",
    "for node in random_selected_nodes_copy:\n",
    "    for graph in graphs_of_network:\n",
    "        if node in graph:\n",
    "            sir_value = graph.nodes[node]['SIR']\n",
    "            if type(sir_value) is np.float64:\n",
    "                sir_value = float(sir_value)\n",
    "                graph.nodes[node]['SIR'] = sir_value\n",
    "            if not((type(sir_value) is float) and (sir_value > 0)):\n",
    "                print(node, sir_value, type(sir_value))\n",
    "                node_infect_scale = SIR_diffusion_model_object.biased_SIR_monoplex_with_seed_set_model(\n",
    "                        network=graph, seed=[node], beta=beta, landa=landa, iteration=epoch, bias=5)\n",
    "del random_selected_nodes_copy"
   ]
  },
  {
   "cell_type": "code",
   "execution_count": 41,
   "metadata": {},
   "outputs": [
    {
     "name": "stdout",
     "output_type": "stream",
     "text": [
      "\u001b[91m0.2\u001b[0m \u001b[92m0.2\u001b[0m\n"
     ]
    }
   ],
   "source": [
    "if new_sir_calc:\n",
    "    new_node_fraction = float(\"%.3f\" % (len(random_selected_nodes) / network_entier_nodes_count))\n",
    "else:\n",
    "    new_node_fraction = node_fraction\n",
    "print(bcolors.FAIL +  str(node_fraction) + bcolors.ENDC, bcolors.OKGREEN + str(new_node_fraction) + bcolors.ENDC)"
   ]
  },
  {
   "cell_type": "code",
   "execution_count": 42,
   "metadata": {},
   "outputs": [],
   "source": [
    "network_infos_writer_object.wirte_layers_mean_SIR_infos_csv(new_node_fraction, beta, landa, epoch, graphs_of_network, random_selected_nodes)"
   ]
  },
  {
   "cell_type": "code",
   "execution_count": 43,
   "metadata": {},
   "outputs": [
    {
     "name": "stdout",
     "output_type": "stream",
     "text": [
      "T_F\n",
      "Load layer results:  \u001b[95m\u001b[92mTrue\u001b[0m\n"
     ]
    }
   ],
   "source": [
    "print(network_name)\n",
    "layer_past_result_status = get_past_results_obj.get_past_layer_att_results(graphs_of_network)\n",
    "if layer_past_result_status:\n",
    "        print(\"Load layer results: \", bcolors.HEADER + bcolors.OKGREEN + str(layer_past_result_status) + bcolors.ENDC)\n",
    "else:\n",
    "        print(\"Load layer results: \", bcolors.HEADER + bcolors.FAIL + str(layer_past_result_status) + bcolors.ENDC)\n",
    "if not layer_past_result_status:\n",
    "        layers_ranking_object = Layers_Ranking()\n",
    "        print(bcolors.HEADER + bcolors.OKBLUE + 'Calc layer layers_density_weight' + bcolors.ENDC)\n",
    "        layers_ranking_object.layers_density_weight(graphs_of_network)\n",
    "        print(bcolors.HEADER + bcolors.OKBLUE + '\\nCalc layer layers_degree_distribution' + bcolors.ENDC)\n",
    "        layers_ranking_object.layers_degree_distribution(graphs_of_network)\n",
    "        print(bcolors.HEADER + bcolors.OKBLUE + '\\nCalc layer layers_edges_and_sombor_index' + bcolors.ENDC)\n",
    "        layers_ranking_object.layers_edges_and_sombor_index(graphs_of_network)\n",
    "        print(bcolors.HEADER + bcolors.OKBLUE + '\\nCalc layer layers_nodes_weight' + bcolors.ENDC)\n",
    "        layers_ranking_object.layers_nodes_weight(graphs_of_network)\n",
    "        print(bcolors.HEADER + bcolors.OKBLUE + '\\nCalc layer layers_k_shell_weight' + bcolors.ENDC)\n",
    "        layers_ranking_object.layers_k_shell_weight(graphs_of_network)"
   ]
  },
  {
   "cell_type": "code",
   "execution_count": 44,
   "metadata": {},
   "outputs": [],
   "source": [
    "# if not layer_past_result_status:\n",
    "network_infos_writer_object.write_network_layer_infos_csv(graphs_of_network)"
   ]
  },
  {
   "cell_type": "code",
   "execution_count": 45,
   "metadata": {},
   "outputs": [
    {
     "name": "stdout",
     "output_type": "stream",
     "text": [
      "Layer\t density\t degree_histogram\t edge_weight\t sombor_index\t nodes_weight\t k_shell_weight\n",
      "\u001b[92m1 \t 0.0011554 \t 51.7984475 \t\t 1161114.0000000 \t 2342.5532064 \t 44832.0000000 \t 45.7239210\u001b[0m\n",
      "\u001b[93m2 \t 0.0096569 \t 464.3813762 \t\t 11165818.0000000 \t 3187.2066430 \t 48089.0000000 \t 1988.5527167\u001b[0m\n"
     ]
    }
   ],
   "source": [
    "print('Layer\\t density\\t degree_histogram\\t edge_weight\\t sombor_index\\t nodes_weight\\t k_shell_weight')\n",
    "f_p = '{:9.7f}' # float padding\n",
    "c = 0\n",
    "for i, graph in enumerate(graphs_of_network):\n",
    "    if graph.number_of_nodes() > 0:\n",
    "        print(colored((str(i)+ ' \\t ' + str(f_p.format(graph.graph[\"layer_density\"]))+ ' \\t ' +\n",
    "                       str(f_p.format(graph.graph[\"layer_degree_histogram\"]))+ ' \\t\\t ' +\n",
    "                       str(f_p.format(graph.graph[\"layer_edge_weight\"]))+ ' \\t ' +\n",
    "                       str(f_p.format(graph.graph[\"layer_sombor_index\"]))+ ' \\t ' +\n",
    "                       str(f_p.format(graph.graph[\"layer_nodes_weight\"]))+ ' \\t ' +\n",
    "                       str(f_p.format(graph.graph[\"layer_k_shell_weight\"]))),\n",
    "                       color_list[c]))\n",
    "    c += 1\n",
    "    if c >= len(color_list):\n",
    "        c = 0"
   ]
  },
  {
   "cell_type": "code",
   "execution_count": 46,
   "metadata": {},
   "outputs": [
    {
     "name": "stdout",
     "output_type": "stream",
     "text": [
      "T_F\n",
      "\n",
      "Load temp results:  \u001b[95m\u001b[92mTrue\u001b[0m\n",
      "Load temp results count:  \u001b[95m\u001b[92m202\u001b[0m \n",
      "\n"
     ]
    },
    {
     "name": "stderr",
     "output_type": "stream",
     "text": [
      "100%|██████████| 202/202 [00:00<00:00, 12557.24 Node/s]\n"
     ]
    }
   ],
   "source": [
    "print(network_name)\n",
    "past_results_status, past_results_nodes = get_past_results_obj.read_nodes_att_from_temp_graph(graphs_of_network)\n",
    "if past_results_status:\n",
    "    print(\"\\nLoad temp results: \", bcolors.HEADER + bcolors.OKGREEN + str(past_results_status) + bcolors.ENDC)\n",
    "    print(\"Load temp results count: \", bcolors.HEADER + bcolors.OKGREEN + str(len(past_results_nodes)) + bcolors.ENDC, '\\n')\n",
    "    random_selected_nodes = past_results_nodes\n",
    "else:\n",
    "    print(\"Load temp results: \", bcolors.HEADER + bcolors.FAIL + str(past_results_status) + bcolors.ENDC, '\\n')\n",
    "Network_Node_Centrality_obj = Network_Node_Centrality()\n",
    "hop_num = 2\n",
    "Network_Node_Centrality_obj.get_nodes_centrality(network_infos_writer_object, graphs_of_network, random_selected_nodes, hop_num)\n"
   ]
  },
  {
   "cell_type": "code",
   "execution_count": 47,
   "metadata": {},
   "outputs": [],
   "source": [
    "for node in random_selected_nodes:\n",
    "    for graph in graphs_of_network:\n",
    "        if graph.number_of_nodes() > 0 and node in graph:\n",
    "            graph.nodes[node][\"degree\"]  = graph.degree(node)\n",
    "            graph.nodes[node][\"layer_density\"] =  graph.graph['layer_density']\n",
    "            graph.nodes[node]['layer_degree_histogram'] = graph.graph[\"layer_degree_histogram\"]\n",
    "            graph.nodes[node]['layer_edge_weight'] = graph.graph[\"layer_edge_weight\"]\n",
    "            graph.nodes[node]['layer_sombor_index'] = graph.graph[\"layer_sombor_index\"]\n",
    "            graph.nodes[node]['layer_nodes_weight'] = graph.graph[\"layer_nodes_weight\"]\n",
    "            graph.nodes[node]['layer_k_shell_weight'] = graph.graph[\"layer_k_shell_weight\"]\n"
   ]
  },
  {
   "cell_type": "code",
   "execution_count": 48,
   "metadata": {},
   "outputs": [
    {
     "name": "stdout",
     "output_type": "stream",
     "text": [
      "T_F\n"
     ]
    }
   ],
   "source": [
    "print(network_name)\n",
    "network_infos_writer_object.write_network_nodes_info_csv(node_fraction, graphs_of_network, random_selected_nodes)\n"
   ]
  }
 ],
 "metadata": {
  "kernelspec": {
   "display_name": "Python 3",
   "language": "python",
   "name": "python3"
  },
  "language_info": {
   "codemirror_mode": {
    "name": "ipython",
    "version": 3
   },
   "file_extension": ".py",
   "mimetype": "text/x-python",
   "name": "python",
   "nbconvert_exporter": "python",
   "pygments_lexer": "ipython3",
   "version": "3.11.2"
  }
 },
 "nbformat": 4,
 "nbformat_minor": 2
}
